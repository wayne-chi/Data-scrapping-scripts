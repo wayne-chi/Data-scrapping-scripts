{
 "cells": [
  {
   "cell_type": "code",
   "execution_count": 1,
   "metadata": {},
   "outputs": [],
   "source": [
    "import requests\n",
    "from bs4 import BeautifulSoup\n",
    "from selenium import webdriver\n",
    "#from bs4 import BeautifulSoup\n",
    "import time"
   ]
  },
  {
   "cell_type": "code",
   "execution_count": 2,
   "metadata": {},
   "outputs": [],
   "source": [
    "import pandas as pd"
   ]
  },
  {
   "cell_type": "code",
   "execution_count": 3,
   "metadata": {},
   "outputs": [],
   "source": [
    "headers = {'user-agent': 'Mozilla/5.0 (Windows NT 10.0; WOW64) AppleWebKit/537.36 (KHTML, like Gecko) Chrome/87.0.4280.88 Safari/537.36'}\n",
    "headers2 = {'user-agent':'Mozilla/5.0 (Windows NT 10.0; WOW64) AppleWebKit/537.36 (KHTML, like Gecko) Chrome/87.0.4280.88 Safari/537.36'}\n"
   ]
  },
  {
   "cell_type": "code",
   "execution_count": 4,
   "metadata": {},
   "outputs": [],
   "source": [
    "login_data = {\n",
    "    'email': 'email@gmail.com',\n",
    "    'password' : '&**********8',\n",
    "    'remember': 'on',\n",
    "    \n",
    "}"
   ]
  },
  {
   "cell_type": "code",
   "execution_count": 5,
   "metadata": {},
   "outputs": [
    {
     "name": "stdout",
     "output_type": "stream",
     "text": [
      "enter your email addressabia64209@gmail.com\n",
      "enter your passwordwoekplace\n"
     ]
    }
   ],
   "source": [
    "ema = input('enter your email address').strip()\n",
    "pswd = input('enter your password').strip()\n",
    "login_data['email'] = ema\n",
    "login_data['password'] = pswd\n"
   ]
  },
  {
   "cell_type": "code",
   "execution_count": 6,
   "metadata": {},
   "outputs": [],
   "source": [
    "doc_name = 'abia64209.xlsx'"
   ]
  },
  {
   "cell_type": "code",
   "execution_count": null,
   "metadata": {},
   "outputs": [],
   "source": []
  },
  {
   "cell_type": "code",
   "execution_count": null,
   "metadata": {},
   "outputs": [],
   "source": []
  },
  {
   "cell_type": "markdown",
   "metadata": {},
   "source": [
    "##  Site information"
   ]
  },
  {
   "cell_type": "code",
   "execution_count": 7,
   "metadata": {},
   "outputs": [],
   "source": [
    "login_xpath = r'/html/body/div[2]/div/div/div/div/div/form/input[3]'"
   ]
  },
  {
   "cell_type": "code",
   "execution_count": 8,
   "metadata": {},
   "outputs": [],
   "source": [
    "url = 'https://skrapp.io/login'"
   ]
  },
  {
   "cell_type": "code",
   "execution_count": 9,
   "metadata": {},
   "outputs": [],
   "source": [
    "\n",
    "CHROMEPATH = r'C:\\Users\\Godswill Otto\\Desktop\\New folder\\telegram\\chromedriver.exe'\n",
    "#'C:\\Program Files (x86)\\Google\\Chrome\\Application\\chrome.exe'"
   ]
  },
  {
   "cell_type": "markdown",
   "metadata": {},
   "source": [
    "## Calling the chrome browser"
   ]
  },
  {
   "cell_type": "code",
   "execution_count": 11,
   "metadata": {},
   "outputs": [
    {
     "data": {
      "text/plain": [
       "{'height': 708, 'width': 1050, 'x': 0, 'y': 0}"
      ]
     },
     "execution_count": 11,
     "metadata": {},
     "output_type": "execute_result"
    }
   ],
   "source": [
    "browser = webdriver.Chrome(CHROMEPATH)\n",
    "browser.set_window_position(0,0)"
   ]
  },
  {
   "cell_type": "markdown",
   "metadata": {},
   "source": [
    "# Get the login page"
   ]
  },
  {
   "cell_type": "code",
   "execution_count": 12,
   "metadata": {},
   "outputs": [],
   "source": [
    "browser.get(url)"
   ]
  },
  {
   "cell_type": "code",
   "execution_count": 13,
   "metadata": {},
   "outputs": [],
   "source": [
    "browser.find_element_by_name(\"email\").send_keys(login_data['email'])"
   ]
  },
  {
   "cell_type": "code",
   "execution_count": 14,
   "metadata": {},
   "outputs": [],
   "source": [
    "browser.find_element_by_name(\"pwd\").send_keys(login_data['password'])"
   ]
  },
  {
   "cell_type": "code",
   "execution_count": 15,
   "metadata": {},
   "outputs": [],
   "source": [
    "browser.find_element_by_xpath(login_xpath).click()"
   ]
  },
  {
   "cell_type": "code",
   "execution_count": 16,
   "metadata": {},
   "outputs": [
    {
     "name": "stdout",
     "output_type": "stream",
     "text": [
      "hi\n"
     ]
    }
   ],
   "source": [
    "soupp = BeautifulSoup(browser.page_source)\n",
    "print('hi')"
   ]
  },
  {
   "cell_type": "code",
   "execution_count": 17,
   "metadata": {},
   "outputs": [],
   "source": [
    "ans = []"
   ]
  },
  {
   "cell_type": "code",
   "execution_count": null,
   "metadata": {},
   "outputs": [],
   "source": []
  },
  {
   "cell_type": "markdown",
   "metadata": {},
   "source": [
    "# Functions "
   ]
  },
  {
   "cell_type": "code",
   "execution_count": 18,
   "metadata": {},
   "outputs": [],
   "source": [
    "def xpath_soup(element):\n",
    "    components = []\n",
    "    child = element if element.name else element.parent\n",
    "    for parent in child.parents:  # type: bs4.element.Tag\n",
    "        siblings = parent.find_all(child.name, recursive=False)\n",
    "        components.append(\n",
    "            child.name if 1 == len(siblings) else '%s[%d]' % (\n",
    "                child.name,\n",
    "                next(i for i, s in enumerate(siblings, 1) if s is child)\n",
    "                )\n",
    "            )\n",
    "        child = parent\n",
    "    components.reverse()\n",
    "    return '/%s' % '/'.join(components)"
   ]
  },
  {
   "cell_type": "code",
   "execution_count": 19,
   "metadata": {},
   "outputs": [],
   "source": [
    "def get_linkedin_id (soupp):\n",
    "    lnk = soupp.find('div',attrs={'class':'list-detail-box col-xs-4'}).find('div', attrs = {'class':'panel-layout'})\n",
    "    lnk1 = lnk.find('div',attrs = {'class':'panel-box'}).find('div',attrs = {'class':'panel-content pad0A bg-white'})\n",
    "    lnk2 = lnk1.find('div',attrs = {'class':\"meta-box meta-box-offset\"}).find('div',attrs = {'class':'list-detail-actions'})\n",
    "    lnk3 = lnk2.find('a',attrs = {'target':'_blank'})\n",
    "    linkedin = lnk3['href']\n",
    "    return linkedin"
   ]
  },
  {
   "cell_type": "code",
   "execution_count": null,
   "metadata": {},
   "outputs": [],
   "source": []
  },
  {
   "cell_type": "markdown",
   "metadata": {},
   "source": [
    "# CODE PROPER"
   ]
  },
  {
   "cell_type": "markdown",
   "metadata": {},
   "source": [
    "## page number"
   ]
  },
  {
   "cell_type": "code",
   "execution_count": 20,
   "metadata": {},
   "outputs": [],
   "source": [
    "p = soupp.find_all('li', )"
   ]
  },
  {
   "cell_type": "code",
   "execution_count": 21,
   "metadata": {},
   "outputs": [
    {
     "name": "stdout",
     "output_type": "stream",
     "text": [
      "8 1  7\n"
     ]
    }
   ],
   "source": [
    "w = 0\n",
    "for i in p[-10:]:\n",
    "    w+=1\n",
    "    if i.find('a',attrs = {'class':\"ng-binding\" }):\n",
    "        dum = i.find('a',attrs = {'class':\"ng-binding\" })\n",
    "        dumm = dum.getText() #or .string\n",
    "        start = int(dumm.split('/')[0] )\n",
    "        end = int(dumm.split('/')[1])\n",
    "\n",
    "        \n",
    "print(end,start,'',(end)-(start))"
   ]
  },
  {
   "cell_type": "code",
   "execution_count": null,
   "metadata": {},
   "outputs": [],
   "source": []
  },
  {
   "cell_type": "code",
   "execution_count": 22,
   "metadata": {},
   "outputs": [],
   "source": [
    "ans = []"
   ]
  },
  {
   "cell_type": "code",
   "execution_count": 23,
   "metadata": {},
   "outputs": [
    {
     "name": "stdout",
     "output_type": "stream",
     "text": [
      "25\n",
      "25\n",
      "25\n",
      "25\n",
      "25\n",
      "25\n",
      "0\n",
      "0\n"
     ]
    }
   ],
   "source": [
    "for page_no in range(0,end) :\n",
    "    \n",
    "    soupp = BeautifulSoup(browser.page_source)\n",
    "    tr = soupp.find_all('tr', attrs = {'class':'ng-scope'})\n",
    "    print(len(tr))\n",
    "    for row in range(len(tr)):\n",
    "        try:\n",
    "            soupp = BeautifulSoup(browser.page_source)\n",
    "            tr = soupp.find_all('tr', attrs = {'class':'ng-scope'})\n",
    "            \n",
    "            elewa = browser.find_element_by_xpath(xpath_soup(tr[row]))\n",
    "            browser.execute_script('arguments[0].click()', elewa) \n",
    "            \n",
    "            soupp = BeautifulSoup(browser.page_source)\n",
    "            row_elements = []\n",
    "            columns = tr[row].find_all('td')\n",
    "            for i in range(1,4): row_elements.append(columns[i].string)\n",
    "            row_elements.append(columns[4].b.string)\n",
    "\n",
    "\n",
    "            linkedin_id = get_linkedin_id (soupp)\n",
    "            row_elements.append( linkedin_id )\n",
    "            ans.append(row_elements)\n",
    "        except:\n",
    "            pass\n",
    "            #ans.append([None,None,None,None,None])\n",
    "    \n",
    "    ## find and click next button\n",
    "    \n",
    "    #soupp = BeautifulSoup(browser.page_source)\n",
    "    next_but = soupp.find('li', attrs = {'class':'next'}).find('a')\n",
    "    #(next_but)\n",
    "    nse = browser.find_element_by_xpath(xpath_soup(next_but))\n",
    "    browser.execute_script('arguments[0].click()', nse)  ##this does it\n",
    "    time.sleep(2)\n",
    "    #loops continue\n",
    "    "
   ]
  },
  {
   "cell_type": "code",
   "execution_count": 24,
   "metadata": {},
   "outputs": [
    {
     "data": {
      "text/plain": [
       "150"
      ]
     },
     "execution_count": 24,
     "metadata": {},
     "output_type": "execute_result"
    }
   ],
   "source": [
    "len(ans)"
   ]
  },
  {
   "cell_type": "markdown",
   "metadata": {},
   "source": [
    "## Concluding Page"
   ]
  },
  {
   "cell_type": "code",
   "execution_count": 25,
   "metadata": {},
   "outputs": [
    {
     "data": {
      "text/plain": [
       "[['Skylar Tillerson, PHR',\n",
       "  'Google | Staf...',\n",
       "  'Google',\n",
       "  'skylartillerson@google.com',\n",
       "  'https://www.linkedin.com/in/skylartillerson'],\n",
       " ['Sakar Diwase',\n",
       "  'Assistant Man...',\n",
       "  'Shapoorji Pallonji Group',\n",
       "  'sakar.diwase@shapoorjipallonji.com',\n",
       "  'https://www.linkedin.com/in/sakar-diwase-66a22712b'],\n",
       " ['Nipun Jain',\n",
       "  'Branch Manager',\n",
       "  'ITC Limited',\n",
       "  'n.jain@itcportal.com',\n",
       "  'https://www.linkedin.com/in/nipun-jain-a6285414'],\n",
       " ['Lucy Amos',\n",
       "  'Head of Socia...',\n",
       "  'The Walt Disney Company',\n",
       "  'lamos@disneycareers.com',\n",
       "  'https://www.linkedin.com/in/lucyamos'],\n",
       " ['Vishal Kumar',\n",
       "  'Group Operati...',\n",
       "  'WNS Global Services',\n",
       "  'vishal.kumar@wns.com',\n",
       "  'https://www.linkedin.com/in/vishal-kumar-15837614'],\n",
       " ['Vijayeta Bhatia',\n",
       "  'Manager, Key ...',\n",
       "  'Razorpay',\n",
       "  'vijayeta.bhatia@razorpay.com',\n",
       "  'https://www.linkedin.com/in/vijayetabhatia'],\n",
       " ['Piyush Sharma',\n",
       "  'Vendor Manager',\n",
       "  'Amazon.com',\n",
       "  'sharma@amazon.com',\n",
       "  'https://www.linkedin.com/in/piyush-sharma-1707b830'],\n",
       " ['Adita Jain',\n",
       "  'AVP\\xa0‑\\xa0Acquisi...',\n",
       "  'Epic Channel India',\n",
       "  'ajain@epicchannel.com',\n",
       "  'https://www.linkedin.com/in/aditajain'],\n",
       " ['Suruchi Sharma',\n",
       "  'Marketing Com...',\n",
       "  'Accenture',\n",
       "  'suruchi.sharma@accenture.com',\n",
       "  'https://www.linkedin.com/in/suruchisharma'],\n",
       " ['Jasmine Samant',\n",
       "  'Sr. Product M...',\n",
       "  'Star India',\n",
       "  'jasmine.samant@startv.com',\n",
       "  'https://www.linkedin.com/in/jasminesamant'],\n",
       " ['Sarandeep Kaur',\n",
       "  'Conversationa...',\n",
       "  'Novo Nordisk',\n",
       "  'kaurs@novonordisk.com',\n",
       "  'https://www.linkedin.com/in/conversationstrategist'],\n",
       " ['Gemma Saint',\n",
       "  'Internal Comm...',\n",
       "  'Virgin Media',\n",
       "  'gemma.saint@virginmedia.com',\n",
       "  'https://www.linkedin.com/in/gemmasaint'],\n",
       " ['Skandh Suresh',\n",
       "  'Manager',\n",
       "  'Wipro Limited',\n",
       "  'skandh.suresh@wipro.com',\n",
       "  'https://www.linkedin.com/in/skandh-suresh-a3224552'],\n",
       " ['Md. Armaan Rashid Shovon',\n",
       "  'Associate Man...',\n",
       "  'Eastern Bank Limited',\n",
       "  'mdshovon@ebl.com.bd',\n",
       "  'https://www.linkedin.com/in/armaanrashid'],\n",
       " ['Jeevan Kumar',\n",
       "  'Manager - Alt...',\n",
       "  'Kotak Life Insurance',\n",
       "  'jeevan.kumar@kotak.com',\n",
       "  'https://www.linkedin.com/in/jeevan-kumar-6085081a'],\n",
       " ['Vickram Chaturvedi',\n",
       "  'Country Manag...',\n",
       "  'IBM India Limited',\n",
       "  'vickram.chaturvedi@ibm.com',\n",
       "  'https://www.linkedin.com/in/vickram-chaturvedi-149b402'],\n",
       " ['Mathivathani Murugesan',\n",
       "  'Channel Sales...',\n",
       "  'Freshworks',\n",
       "  'mathivathani.murugesan@freshworks.com',\n",
       "  'https://www.linkedin.com/in/mathivathani-murugesan-168872128'],\n",
       " ['Prakash Jha',\n",
       "  'Manager',\n",
       "  'State Bank of India',\n",
       "  'prakash.jha@bank.sbi',\n",
       "  'https://www.linkedin.com/in/prakash-jha-a286b736'],\n",
       " ['Shoumitra Chatterjee',\n",
       "  'VP & COO',\n",
       "  'Fuji Electric India',\n",
       "  'shoumitra.chatterjee@fujielectric.co.in',\n",
       "  'https://www.linkedin.com/in/shoumitra-chatterjee-31727211'],\n",
       " ['Abhishek Jain',\n",
       "  'Nasaka - Alte...',\n",
       "  'Okaya Power Group',\n",
       "  'abhishek@okayapower.com',\n",
       "  'https://www.linkedin.com/in/abhijain61arya'],\n",
       " ['Amod Ranade',\n",
       "  'Director of E...',\n",
       "  'Honeywell',\n",
       "  'amod.ranade@honeywell.com',\n",
       "  'https://www.linkedin.com/in/amod-ranade-1552951'],\n",
       " ['Alok Sinha',\n",
       "  'Vice President',\n",
       "  'Extramarks Education India Pvt. Ltd.',\n",
       "  'alok@extramarks.com',\n",
       "  'https://www.linkedin.com/in/alok-sinha-99a0a618'],\n",
       " ['Pooja Jain',\n",
       "  'Manager - Cha...',\n",
       "  'Aksh Optifibre Ltd.',\n",
       "  'pooja@akshoptifibre.com',\n",
       "  'https://www.linkedin.com/in/connectpoojajain'],\n",
       " ['Arun Kumar',\n",
       "  'Channel Manag...',\n",
       "  'Freshworks',\n",
       "  'arun.kumar@freshworks.com',\n",
       "  'https://www.linkedin.com/in/arun-kumar-95b31210b'],\n",
       " ['Hitesh Magoo',\n",
       "  'Cluster Head',\n",
       "  'Zomato',\n",
       "  'hitesh.magoo@zomato.com',\n",
       "  'https://www.linkedin.com/in/hitesh-magoo-75791670'],\n",
       " ['Kushmeet Singh Bagga',\n",
       "  'Manager- Chan...',\n",
       "  'Robertshaw',\n",
       "  'kushmeet.bagga@robertshaw.com',\n",
       "  'https://www.linkedin.com/in/kushmeetsinghbagga'],\n",
       " ['Avinandan Ghosh',\n",
       "  'Managing Omni...',\n",
       "  'IKEA Group',\n",
       "  'avinandan.ghosh@ikea.com',\n",
       "  'https://www.linkedin.com/in/avinandan-ghosh-6940382'],\n",
       " ['Suvitha C D',\n",
       "  'Corporate Adm...',\n",
       "  'DTDC Express Limited',\n",
       "  'suvithac@dtdc.com',\n",
       "  'https://www.linkedin.com/in/suvitha-c-d-175210a2'],\n",
       " ['Alexy K.Tito',\n",
       "  'Deputy Manager',\n",
       "  'Havells India Ltd',\n",
       "  'alexy.k@havells.com',\n",
       "  'https://www.linkedin.com/in/alexy-k-tito-07552314'],\n",
       " ['Dinesh Kumar Soni',\n",
       "  'Channel Sales...',\n",
       "  'Tata AIG General Insurance Company Limited',\n",
       "  'dinesh.soni@tataaig.com',\n",
       "  'https://www.linkedin.com/in/dinesh-kumar-soni-051070117'],\n",
       " ['NUPUR BORGOHAIN',\n",
       "  'AGM - Premium...',\n",
       "  'Hyundai Motor India Ltd.',\n",
       "  'nupur.borgohain@hyundai.co.in',\n",
       "  'https://www.linkedin.com/in/nupur-borgohain-aa224624'],\n",
       " ['Bhoopendra Kumar',\n",
       "  'Channel Manager',\n",
       "  'Hitachi Payment Services Pvt. Ltd.',\n",
       "  'bhoopendra.kumar@hitachi-payments.com',\n",
       "  'https://www.linkedin.com/in/bhoopendra-kumar-bb70575b'],\n",
       " ['Dinakar Poduval',\n",
       "  'Channel Sales...',\n",
       "  'Ola (ANI Technologies Pvt. Ltd)',\n",
       "  'dinakar@olacabs.com',\n",
       "  'https://www.linkedin.com/in/dinakar-poduval-43301991'],\n",
       " ['Pranjal Srivastava',\n",
       "  'Channel Sales...',\n",
       "  'Shapoorji Pallonji Group',\n",
       "  'pranjal.ivastava@shapoorjipallonji.com',\n",
       "  'https://www.linkedin.com/in/pranjal-srivastava-647b1410'],\n",
       " ['Vinit Kavade',\n",
       "  'Manager-Chann...',\n",
       "  'B.U.Bhandari Landmarks',\n",
       "  'vinit@bubhandarilandmarks.com',\n",
       "  'https://www.linkedin.com/in/vinit-kavade-5a487a59'],\n",
       " ['Ankur Mukherjee',\n",
       "  'Director - Un...',\n",
       "  'Unacademy',\n",
       "  'ankur.mukherjee@unacademy.com',\n",
       "  'https://www.linkedin.com/in/ankur-mukherjee-80997815'],\n",
       " ['Murali C.',\n",
       "  'Zonal Channel...',\n",
       "  'DTDC Express Limited',\n",
       "  'muralic@dtdc.com',\n",
       "  'https://www.linkedin.com/in/murali-c-218b0334'],\n",
       " ['Gururaj Govalkar',\n",
       "  'Channel Sales...',\n",
       "  'Rustomjee',\n",
       "  'gururajgovalkar@rustomjee.com',\n",
       "  'https://www.linkedin.com/in/gururaj-govalkar-726478199'],\n",
       " ['Vivek Reddy',\n",
       "  'OYO WorkSpace...',\n",
       "  'OYO',\n",
       "  'vivek.reddy@oyorooms.com',\n",
       "  'https://www.linkedin.com/in/vivek-reddy-80b453166'],\n",
       " ['Prashanth Tadimalla',\n",
       "  'Supply Chain ...',\n",
       "  'Signify',\n",
       "  'prashanth.tadimalla@signify.com',\n",
       "  'https://www.linkedin.com/in/prashanthtadimalla'],\n",
       " ['Dharmendra Singh',\n",
       "  'Manager - Cha...',\n",
       "  'Havells India Ltd',\n",
       "  'dharmendra.singh@havells.com',\n",
       "  'https://www.linkedin.com/in/dharmendra-singh-19341831'],\n",
       " ['Kunal Seal',\n",
       "  'Manager - Aud...',\n",
       "  'Visual Display Solutions Private Limited',\n",
       "  'kunal@bit.ly',\n",
       "  'https://www.linkedin.com/in/kunal-seal-72094b9b'],\n",
       " ['Saikat Sinha',\n",
       "  'Lead Digital ...',\n",
       "  'Lenovo',\n",
       "  'ssinha@lenovo.com',\n",
       "  'https://www.linkedin.com/in/saikatsinha2'],\n",
       " ['Ganesh Krishnan',\n",
       "  'Corporate Str...',\n",
       "  'Axis Bank',\n",
       "  'ganesh.krishnan@axisbank.com',\n",
       "  'https://www.linkedin.com/in/ganesh-krishnan-359b8b7'],\n",
       " ['Vaidyanathan k.s',\n",
       "  'Regional Mana...',\n",
       "  'Kohler Kitchen & Bath India',\n",
       "  'vk@kohlercompany.com',\n",
       "  'https://www.linkedin.com/in/vaidyanathan-k-s-b1513a39'],\n",
       " ['Carl Patrao',\n",
       "  'Channel Manag...',\n",
       "  'Atlassian',\n",
       "  'cpatrao@atlassian.com',\n",
       "  'https://www.linkedin.com/in/carlpatrao'],\n",
       " ['Shivram Bikkina',\n",
       "  'Head SAARC & ...',\n",
       "  'Whirlpool of India Ltd.',\n",
       "  'shivram.bikkina@whirlpoolcorp.com',\n",
       "  'https://www.linkedin.com/in/shivram-bikkina-49409930'],\n",
       " ['Hina Shukla',\n",
       "  'Territory Cha...',\n",
       "  'Microsoft',\n",
       "  'hina.shukla@microsoft.com',\n",
       "  'https://www.linkedin.com/in/hina-shukla-4b3b1a1a'],\n",
       " ['Anandakrishnan Prabhakaran',\n",
       "  'Channel Manag...',\n",
       "  'Axis Mutual Fund',\n",
       "  'anandakrishnan.prabhakaran@axismf.com',\n",
       "  'https://www.linkedin.com/in/anandakrishnan6'],\n",
       " ['Duane Anthony Bayliss',\n",
       "  'Chief Manager...',\n",
       "  'ICICI Bank',\n",
       "  'duane.bayliss@icicibank.com',\n",
       "  'https://www.linkedin.com/in/duanebayliss'],\n",
       " ['François Cavalade',\n",
       "  'Director, Glo...',\n",
       "  'NAGRA',\n",
       "  'cavalade.francois@nagra.com',\n",
       "  'https://www.linkedin.com/in/fcavalade'],\n",
       " ['Manish Lawankar',\n",
       "  'Country Marke...',\n",
       "  'Hewlett Packard Enterprise',\n",
       "  'manish.lawankar@hpe.com',\n",
       "  'https://www.linkedin.com/in/manish-lawankar-0320ba24'],\n",
       " ['Avantika Saxena',\n",
       "  'Manager, Digi...',\n",
       "  'Best Buy Canada',\n",
       "  'asaxena@bestbuy.ca',\n",
       "  'https://www.linkedin.com/in/avantikasaxena'],\n",
       " ['Rahul Menon',\n",
       "  'India Marketi...',\n",
       "  'Zendesk',\n",
       "  'rmenon@zendesk.com',\n",
       "  'https://www.linkedin.com/in/rahulmenon'],\n",
       " ['Anand Natarajan',\n",
       "  'Channel Manag...',\n",
       "  'GitHub',\n",
       "  'anandnatarajan@github.com',\n",
       "  'https://www.linkedin.com/in/anandnatarajanibm'],\n",
       " ['Manik Sharma',\n",
       "  'General Manag...',\n",
       "  'Carrier HVAC',\n",
       "  'manik.sharma@carrier.com',\n",
       "  'https://www.linkedin.com/in/manik-sharma-0256b28'],\n",
       " ['Abhay Gupta',\n",
       "  'General Manag...',\n",
       "  'Singer India Limited',\n",
       "  'agupta@singerindia.net',\n",
       "  'https://www.linkedin.com/in/abhayguptax'],\n",
       " ['Anuradha Bansal',\n",
       "  'Hiring Machin...',\n",
       "  'Amazon',\n",
       "  'bansal@amazon.com',\n",
       "  'https://www.linkedin.com/in/anubansal'],\n",
       " ['Trisha Anand',\n",
       "  'Senior Manage...',\n",
       "  'Tata Steel',\n",
       "  'trisha.anand@tatasteel.com',\n",
       "  'https://www.linkedin.com/in/trisha-anand-53a67431'],\n",
       " ['Chaitra Krishna',\n",
       "  'Director - Br...',\n",
       "  'ScoopWhoop Media Pvt. Ltd.',\n",
       "  'chaitra.krishna@scoopwhoop.com',\n",
       "  'https://www.linkedin.com/in/chaitra-krishna-7133648'],\n",
       " ['Ashutosh Seth',\n",
       "  'Group Head',\n",
       "  'Fever FM (HT Media Ltd.)',\n",
       "  'ashutosh.seth@fever.fm',\n",
       "  'https://www.linkedin.com/in/ashutosh-seth-29205417'],\n",
       " ['Pankaj singh chauhan ',\n",
       "  'Manager',\n",
       "  'HDFC Bank',\n",
       "  'pankaj.singh@hdfcbank.com',\n",
       "  'https://www.linkedin.com/in/pankaj-singh-chauhan-6b0a60106'],\n",
       " ['ANIL KUMAR G',\n",
       "  'Area Manager',\n",
       "  'LG Electronics',\n",
       "  'ag@lg.com',\n",
       "  'https://www.linkedin.com/in/anil-kumar-g-922bb03b'],\n",
       " ['Ajay Sharma',\n",
       "  'Channel Sales...',\n",
       "  'Tata AIG General Insurance Company Limited',\n",
       "  'ajay.sharma@tataaig.com',\n",
       "  'https://www.linkedin.com/in/ajay-sharma-6656345b'],\n",
       " ['Hariharan Nurni',\n",
       "  'Experienced e...',\n",
       "  'Amazon',\n",
       "  'nurni@amazon.com',\n",
       "  'https://www.linkedin.com/in/hariharan-nurni-4387856'],\n",
       " ['Nimish Kasar',\n",
       "  'User Experien...',\n",
       "  'Kimberly-Clark',\n",
       "  'nimish.kasar@careersatkc.com',\n",
       "  'https://www.linkedin.com/in/nimishkasar'],\n",
       " ['Ramesh Thyagatur',\n",
       "  'Multi-Channel...',\n",
       "  'Cognizant',\n",
       "  'ramesh.thyagatur@cognizant.com',\n",
       "  'https://www.linkedin.com/in/ramesh-thyagatur'],\n",
       " ['Jessy Dsouza',\n",
       "  'Strategic sal...',\n",
       "  'UTI MF',\n",
       "  'j.dsouza@utimf.com',\n",
       "  'https://www.linkedin.com/in/jessydsouza'],\n",
       " ['Ashish Dubey',\n",
       "  'Sellout & Key...',\n",
       "  'Panasonic',\n",
       "  'dubeya@panasonic.com',\n",
       "  'https://www.linkedin.com/in/ashish-dubey-3622bb15'],\n",
       " ['SAMUDHRALA ARUN KUMAR',\n",
       "  'Assistant Man...',\n",
       "  'LG Electronics Asia Information Display',\n",
       "  'skumar@lg.com',\n",
       "  'https://www.linkedin.com/in/samudhrala-arun-kumar-60058b158'],\n",
       " ['Seshasai Vinjamuri',\n",
       "  'Channel Manager',\n",
       "  'Hindustan Unilever Ltd.',\n",
       "  'seshasai.vinjamuri@unilever.com',\n",
       "  'https://www.linkedin.com/in/seshasai-vinjamuri-b6678a4'],\n",
       " ['Siddharth Ramakrishnan',\n",
       "  'Manager - Cha...',\n",
       "  'Cerebrate Solutions',\n",
       "  'siddharth.ramakrishnan@cerebratesolutions.in',\n",
       "  'https://www.linkedin.com/in/siddharthramakrishnan'],\n",
       " ['Gayathri Padmanabhan',\n",
       "  'Partnerships ...',\n",
       "  'Freshworks',\n",
       "  'gayathri.padmanabhan@freshworks.com',\n",
       "  'https://www.linkedin.com/in/gayathri-padmanabhan-530b2777'],\n",
       " ['Akanksha Jain',\n",
       "  'Paytm | Ex- H...',\n",
       "  'Paytm',\n",
       "  'jain.akanksha@paytm.com',\n",
       "  'https://www.linkedin.com/in/akanksha-jain269'],\n",
       " ['Subin George',\n",
       "  'Senior Manager',\n",
       "  'Zoho Corporation',\n",
       "  'subin.george@zoho.com',\n",
       "  'https://www.linkedin.com/in/subin-george-20b7b276'],\n",
       " ['Varun Bhattacharya',\n",
       "  'Assistant Gen...',\n",
       "  'Hindustan Times',\n",
       "  'varun.bhattacharya@hindustantimes.com',\n",
       "  'https://www.linkedin.com/in/varun-bhattacharya-72472a62'],\n",
       " ['Andre Tayo Jr, PMP',\n",
       "  'Head - Brand,...',\n",
       "  'Vodafone',\n",
       "  'andre.tayo@vodafone.com',\n",
       "  'https://www.linkedin.com/in/andre-tayo-jr-pmp-7a903511'],\n",
       " ['Ashish Tanna',\n",
       "  'Specialist Di...',\n",
       "  'DBS Bank',\n",
       "  'ashishtanna@dbs.com',\n",
       "  'https://www.linkedin.com/in/ashish-tanna-3b335131'],\n",
       " ['Wasim Bagban',\n",
       "  'Waiting for N...',\n",
       "  'Tata Docomo',\n",
       "  'bagban.wasim@tatadocomo.com',\n",
       "  'https://www.linkedin.com/in/wasim-bagban-56b14723'],\n",
       " ['Mohammed Tahseen Ameen',\n",
       "  'Director Glob...',\n",
       "  'Symphony SummitAI',\n",
       "  'mohammed.ameen@symphonysummit.com',\n",
       "  'https://www.linkedin.com/in/mohammed-tahseen-ameen-86696311'],\n",
       " ['Rajeev Kumar',\n",
       "  'Asst. manager',\n",
       "  'Godrej & Boyce Mfg Co. Private Limited (Division Godrej Security Solutions)',\n",
       "  'rajeev@indiamart.com',\n",
       "  'https://www.linkedin.com/in/rajeev-kumar-218aa349'],\n",
       " ['Ravichandran Ganapathi',\n",
       "  'Senior Manager',\n",
       "  'Tata Communications',\n",
       "  'ravichandran.ganapathi@tatacommunications.com',\n",
       "  'https://www.linkedin.com/in/ravichandran-ganapathi-91a23125'],\n",
       " ['Anurag Agarwal',\n",
       "  'E-Commerce Ma...',\n",
       "  'Timex Group',\n",
       "  'aagarwal@timexgroup.com',\n",
       "  'https://www.linkedin.com/in/agarwalanuraag'],\n",
       " ['PonMuthu Seenithevar',\n",
       "  'Channel Manager',\n",
       "  'Procter & Gamble',\n",
       "  'seenithevar.p@pg.com',\n",
       "  'https://www.linkedin.com/in/ponmuthu-seenithevar-808b8066'],\n",
       " ['Nailesh Shah',\n",
       "  'SVP, Product ...',\n",
       "  'Citi',\n",
       "  'nailesh.shah@citigroup.com',\n",
       "  'https://www.linkedin.com/in/na123'],\n",
       " ['Khyati Dalmia',\n",
       "  'Sony Pictures...',\n",
       "  'Sony Pictures Networks India',\n",
       "  'k.dalmia@sonypicturesnetworks.com',\n",
       "  'https://www.linkedin.com/in/khyati-dalmia-495891142'],\n",
       " ['Dennis Fink',\n",
       "  'Head of Digit...',\n",
       "  'QIAGEN',\n",
       "  'dennis.fink@qiagen.com',\n",
       "  'https://www.linkedin.com/in/1dennisfink1'],\n",
       " ['Siddharth Luthra',\n",
       "  'Citibank | Ha...',\n",
       "  'Citi',\n",
       "  'siddharth.luthra@citigroup.com',\n",
       "  'https://www.linkedin.com/in/siddharthluthra'],\n",
       " ['Karthik Anivilla',\n",
       "  'A seasoned da...',\n",
       "  'Annalect',\n",
       "  'karthik.anivilla@annalect.com',\n",
       "  'https://www.linkedin.com/in/karthik-anivilla-14262312'],\n",
       " ['RAHUL GUPTA',\n",
       "  'Zonal Manager...',\n",
       "  'HDFC Life',\n",
       "  'rahulg@hdfclife.com',\n",
       "  'https://www.linkedin.com/in/rahul-gupta-1224bb14'],\n",
       " ['Monika Shahakar',\n",
       "  'Manager',\n",
       "  'SD Corporation P.Ltd (Shapoorji Pallonji & Co Ltd - Group Venture)',\n",
       "  'mshahakar@sdcorp.in',\n",
       "  'https://www.linkedin.com/in/monika-shahakar-22a02b55'],\n",
       " ['Vaibhav Gupta',\n",
       "  'Senior Catego...',\n",
       "  'Nestle',\n",
       "  'vaibhav.gupta@nestle.com',\n",
       "  'https://www.linkedin.com/in/vaibhav84'],\n",
       " ['Ujjwal Saini',\n",
       "  'Manager | Eve...',\n",
       "  'OYO',\n",
       "  'ujjwal.saini@oyorooms.com',\n",
       "  'https://www.linkedin.com/in/ujjwal-saini-81164296'],\n",
       " ['Karan Vohra',\n",
       "  'Senior Produc...',\n",
       "  'NIVEA INDIA',\n",
       "  'karanvohra@nivea.in',\n",
       "  'https://www.linkedin.com/in/karanvohra'],\n",
       " ['Deepak Mahakud',\n",
       "  'Manager - Alt...',\n",
       "  'Milk Mantra Dairy Pvt Ltd',\n",
       "  'mahakud@milkmantra.com',\n",
       "  'https://www.linkedin.com/in/deepak-mahakud-54032198'],\n",
       " ['Pankil Chugh',\n",
       "  'Senior Instoc...',\n",
       "  'Amazon',\n",
       "  'chugh@amazon.com',\n",
       "  'https://www.linkedin.com/in/pankilchugh'],\n",
       " ['Dhwanish Patel',\n",
       "  'Area Manager ...',\n",
       "  'Hyundai Motor India Ltd.',\n",
       "  'dhwanish.patel@hyundai.co.in',\n",
       "  'https://www.linkedin.com/in/dhwanish-patel-a653542a'],\n",
       " ['Srinubas Patra',\n",
       "  'Channel Manager',\n",
       "  'Vertiv',\n",
       "  'inubas.patra@vertiv.com',\n",
       "  'https://www.linkedin.com/in/srinubas-patra-717a8218'],\n",
       " ['Nimalan Paul',\n",
       "  'Global Produc...',\n",
       "  'GE Healthcare',\n",
       "  'n.paul@gehealthcare.com',\n",
       "  'https://www.linkedin.com/in/nimalan'],\n",
       " ['Lílian Vital',\n",
       "  'Senior Client...',\n",
       "  'Sanofi',\n",
       "  'lilian.vital@sanofi.com',\n",
       "  'https://www.linkedin.com/in/lilianvital'],\n",
       " ['Shivika Dalmia',\n",
       "  'Program Manag...',\n",
       "  'OYO',\n",
       "  'shivika.dalmia@oyorooms.com',\n",
       "  'https://www.linkedin.com/in/shivika-dalmia'],\n",
       " ['Ramesh Deekonda',\n",
       "  'Channel Manager',\n",
       "  'State Bank of Hyderabad',\n",
       "  'rameshdeekonda@sbhyd.com',\n",
       "  'https://www.linkedin.com/in/ramesh-deekonda-06653154'],\n",
       " ['Shamiksingh Chauhan',\n",
       "  'Deputy Manager',\n",
       "  'Gibson Innovations (formerly WOOX Innovations)',\n",
       "  's.chauhan@gibsoninnovations.com',\n",
       "  'https://www.linkedin.com/in/shamiksingh-chauhan-19913839'],\n",
       " ['Shakeel Ahemed',\n",
       "  'Regional Chan...',\n",
       "  'Sify Technologies Limited.',\n",
       "  'shakeelahemed@sifytechnologies.com',\n",
       "  'https://www.linkedin.com/in/shakeel-ahemed-6023a225'],\n",
       " ['Smruti Guttal',\n",
       "  'Product and C...',\n",
       "  'Bosch Limited',\n",
       "  'smruti.guttal@bosch.com',\n",
       "  'https://www.linkedin.com/in/smruti-guttal-38805521'],\n",
       " ['Mei Yu Lim (IHRP-CP)',\n",
       "  'Senior Execut...',\n",
       "  'Public Service Division',\n",
       "  'mei_lim@psd.gov.sg',\n",
       "  'https://www.linkedin.com/in/limmeiyu'],\n",
       " ['Saritha Padayambath',\n",
       "  'Senior Manage...',\n",
       "  'Hewlett Packard Enterprise',\n",
       "  'saritha.padayambath@hpe.com',\n",
       "  'https://www.linkedin.com/in/saritha-padayambath-2a066833'],\n",
       " ['Sandeep Iyer',\n",
       "  'AVP - Program...',\n",
       "  'Sony Pictures Networks India',\n",
       "  's.iyer@sonypicturesnetworks.com',\n",
       "  'https://www.linkedin.com/in/sandeep-iyer-a373529'],\n",
       " ['Abhinav Marathe',\n",
       "  'Assistant Man...',\n",
       "  'Deloitte India (Offices of the US)',\n",
       "  'amarathe@deloitte.com',\n",
       "  'https://www.linkedin.com/in/abhinavmarathe'],\n",
       " ['Niranjan Jha',\n",
       "  'Channel Sales...',\n",
       "  'Bharti Airtel',\n",
       "  'niranjan.jha@airtel.in',\n",
       "  'https://www.linkedin.com/in/niranjan-jha-b558b31b1'],\n",
       " ['Parminder Pal Singh',\n",
       "  'Business Head...',\n",
       "  'Micron Technology',\n",
       "  'parmindersingh@micron.com',\n",
       "  'https://www.linkedin.com/in/parminder-pal-singh-41b41b7'],\n",
       " ['Srinath varadan',\n",
       "  'Group Head',\n",
       "  'Star India',\n",
       "  'inath.varadan@indystar.com',\n",
       "  'https://www.linkedin.com/in/srinath-varadan-7783a827'],\n",
       " ['Mahantesh Kotagi',\n",
       "  'Manager Chann...',\n",
       "  'Danfoss Drives',\n",
       "  'mahantesh.kotagi@danfoss.com',\n",
       "  'https://www.linkedin.com/in/mvkcvdata'],\n",
       " ['Snehal Parikh',\n",
       "  'Growth Focuse...',\n",
       "  'DEVTECH M2M Limited',\n",
       "  'snehal@devtechm2m.com',\n",
       "  'https://www.linkedin.com/in/snehalparikh'],\n",
       " ['Akhilesh Upneja',\n",
       "  'Area Sales He...',\n",
       "  'Puravankara Limited',\n",
       "  'akhilesh@puravankara.com',\n",
       "  'https://www.linkedin.com/in/akhilesh-upneja-43656756'],\n",
       " ['Raja Sarfudeen',\n",
       "  'Channel Sales...',\n",
       "  'Keysight Technologies',\n",
       "  'raja_sarfudeen@keysight.com',\n",
       "  'https://www.linkedin.com/in/rajjasarfudeen'],\n",
       " ['Shalini Jaiswal',\n",
       "  'Channel Sales...',\n",
       "  'Mittal Brothers Pvt Ltd',\n",
       "  'shalini@mittalbrothers.com',\n",
       "  'https://www.linkedin.com/in/shalini-jaiswal-56ab971a2'],\n",
       " ['Dhruv Rawat',\n",
       "  'GM',\n",
       "  'Bharti Teletech Limited',\n",
       "  'dhruv.rawat@beetel.in',\n",
       "  'https://www.linkedin.com/in/dhruv-rawat-12142612'],\n",
       " ['Adit Shetty',\n",
       "  'General Manag...',\n",
       "  'Rebel Foods (Formerly Faasos)',\n",
       "  'adit.shetty@rebelfoods.co',\n",
       "  'https://www.linkedin.com/in/adit-shetty'],\n",
       " ['Animesh Mishra',\n",
       "  'Head Digital ...',\n",
       "  'ODM EDUCATIONAL GROUP',\n",
       "  'animesh.mishra@odmps.org',\n",
       "  'https://www.linkedin.com/in/animeshmishra59'],\n",
       " ['Sunny Mawa',\n",
       "  'MANGER CHANNEL',\n",
       "  'DTDC Express Limited',\n",
       "  'sunnym@dtdc.com',\n",
       "  'https://www.linkedin.com/in/sunny-mawa-b94b9412a'],\n",
       " ['abhinav shekhar',\n",
       "  'Manager - Cha...',\n",
       "  'Kolte-P',\n",
       "  'abhinav.shekhar@koltepatil.com',\n",
       "  'https://www.linkedin.com/in/abhinav-shekhar-6249203a'],\n",
       " ['Maneesh Sharma',\n",
       "  'Channel Devel...',\n",
       "  'Tata AIG General Insurance Company Limited',\n",
       "  'maneesh.sharma@tataaig.com',\n",
       "  'https://www.linkedin.com/in/maneesh-sharma-151551159'],\n",
       " ['Paarth Mittal',\n",
       "  'Alliances and...',\n",
       "  'Newgen Software',\n",
       "  'paarth@newgensoft.com',\n",
       "  'https://www.linkedin.com/in/paarth-mittal-37400086'],\n",
       " ['Sankar  Patra',\n",
       "  'Founder',\n",
       "  'Go 4 FooD',\n",
       "  'spatra@giveandgo.com',\n",
       "  'https://www.linkedin.com/in/sankar-patra-198ba548'],\n",
       " ['Ravi Kumar Sura',\n",
       "  'Channel Manager',\n",
       "  'Lenovo India',\n",
       "  'rsura@lenovo.com',\n",
       "  'https://www.linkedin.com/in/ravi-kumar-sura-15a4a887'],\n",
       " ['SANDEEP YADAV',\n",
       "  'Deputy Manage...',\n",
       "  'Vertiv',\n",
       "  'sandeep.yadav@vertiv.com',\n",
       "  'https://www.linkedin.com/in/sandeep-yadav-60413151'],\n",
       " ['Rajee Singh',\n",
       "  'Channel Sales...',\n",
       "  'Kent RO Systems Ltd.',\n",
       "  'rsingh@kent.co.in',\n",
       "  'https://www.linkedin.com/in/rajee-singh-a85b58a6'],\n",
       " ['Nitesh Jain',\n",
       "  'General Manag...',\n",
       "  'Signify',\n",
       "  'nitesh.jain@signify.com',\n",
       "  'https://www.linkedin.com/in/nitesh-jain-5001711b'],\n",
       " ['Parthasarathy  Ramu',\n",
       "  'Channel Servi...',\n",
       "  'Cummins Inc.',\n",
       "  'parthasarathy.ramu@cummins.com',\n",
       "  'https://www.linkedin.com/in/parthasarathy-ramu-a5127b48'],\n",
       " ['Siddharth Tripathi',\n",
       "  '...',\n",
       "  'Unacademy',\n",
       "  'siddharth.tripathi@unacademy.com',\n",
       "  'https://www.linkedin.com/in/siddharth-tripathi-b361a6179'],\n",
       " ['Shaikha Abdullah M Al Naboodah',\n",
       "  'General Manag...',\n",
       "  'Saeed & Mohammed Al Naboodah Group',\n",
       "  'shaikha.al@alnaboodah.com',\n",
       "  'https://www.linkedin.com/in/shaikha-abdullah-m-al-naboodah-542077132'],\n",
       " ['Vineet Nambudiri',\n",
       "  'Lead Strategi...',\n",
       "  'Dell',\n",
       "  'vineet_nambudiri@dell.com',\n",
       "  'https://www.linkedin.com/in/vineet-nambudiri-1397a026'],\n",
       " ['Sakshi Sharma',\n",
       "  'Human Resourc...',\n",
       "  'Procter & Gamble',\n",
       "  'sharma.s@pg.com',\n",
       "  'https://www.linkedin.com/in/sakshi-sharma-368700a7'],\n",
       " ['Manju M N',\n",
       "  'Channel Manag...',\n",
       "  'Targus',\n",
       "  'mm@targus.com',\n",
       "  'https://www.linkedin.com/in/manju-m-n-46834570'],\n",
       " ['anket shirke',\n",
       "  'Youtube Chann...',\n",
       "  'Shotformats Digital Productions Pvt Ltd',\n",
       "  'anketshirke@shotformats.com',\n",
       "  'https://www.linkedin.com/in/anket-shirke-b46872a7'],\n",
       " ['Bhagyesh Rathod',\n",
       "  'Digital Marke...',\n",
       "  'IFI Techsolutions Pvt. Ltd.',\n",
       "  'bhagyesh@ifi.tech',\n",
       "  'https://www.linkedin.com/in/bhagyeshrathod'],\n",
       " ['Larissa Pinto',\n",
       "  'Open to new o...',\n",
       "  'MyGlamm',\n",
       "  'larissa.pinto@myglamm.com',\n",
       "  'https://www.linkedin.com/in/larissa-pinto-a5821387'],\n",
       " ['Sai Ganga R',\n",
       "  'Assistant Man...',\n",
       "  'Maruti Suzuki India Limited',\n",
       "  's-r@marutisuzuki.com',\n",
       "  'https://www.linkedin.com/in/sai-ganga-r'],\n",
       " ['Nikhil Kumar',\n",
       "  'Join our rock...',\n",
       "  'iSPIRT Foundation',\n",
       "  'nikhil@ispirt.in',\n",
       "  'https://www.linkedin.com/in/nikhilkumarks'],\n",
       " ['Jasrita Dhir',\n",
       "  'Head - Market...',\n",
       "  'Antara Senior Living',\n",
       "  'jasrita.dhir@antaraseniorliving.com',\n",
       "  'https://www.linkedin.com/in/jasrita-dhir-40a5524'],\n",
       " ['MINI CHAWLA',\n",
       "  'Key Account M...',\n",
       "  'MakeMyTrip',\n",
       "  'mini.chawla@makemytrip.com',\n",
       "  'https://www.linkedin.com/in/mini-chawla'],\n",
       " ['Pranay A J Katkar',\n",
       "  'Campaign Mana...',\n",
       "  'HDFC Bank',\n",
       "  'pranay.a@hdfcbank.com',\n",
       "  'https://www.linkedin.com/in/pranay-a-j-katkar-0993b824'],\n",
       " ['☕️Apolline Adiju',\n",
       "  'Marketing Str...',\n",
       "  'Business 2 Community',\n",
       "  'apolline@business2community.com',\n",
       "  'https://www.linkedin.com/in/apollineadiju'],\n",
       " ['Linda Descano',\n",
       "  'Merged Media ...',\n",
       "  'New York Women in Communications',\n",
       "  'lindad@nywici.org',\n",
       "  'https://www.linkedin.com/in/lindadescano'],\n",
       " ['Tarun Sairam',\n",
       "  'Growth & Perf...',\n",
       "  'Vedantu',\n",
       "  'tarun.sairam@vedantu.com',\n",
       "  'https://www.linkedin.com/in/tarun-sairam'],\n",
       " ['Mary Ann Halford',\n",
       "  'Media and Ent...',\n",
       "  'Edison Nation',\n",
       "  'mhalford@edisonnation.com',\n",
       "  'https://www.linkedin.com/in/maryannhalford'],\n",
       " ['Ashutosh Sharma',\n",
       "  'Business Deve...',\n",
       "  'Wipro Limited',\n",
       "  'ashutosh.sharma@wipro.com',\n",
       "  'https://www.linkedin.com/in/asharma-0259'],\n",
       " ['Kelly White',\n",
       "  'Managing Dire...',\n",
       "  'Red Cow Media',\n",
       "  'kelly@redcowmedia.co.uk',\n",
       "  'https://www.linkedin.com/in/kellylouisewhite'],\n",
       " ['Vinod Thomas',\n",
       "  'Talent Strate...',\n",
       "  'Accenture',\n",
       "  'vinod.thomas@accenture.com',\n",
       "  'https://www.linkedin.com/in/vinodthomas']]"
      ]
     },
     "execution_count": 25,
     "metadata": {},
     "output_type": "execute_result"
    }
   ],
   "source": [
    "ans"
   ]
  },
  {
   "cell_type": "code",
   "execution_count": 26,
   "metadata": {},
   "outputs": [],
   "source": [
    "final_ans = pd.DataFrame(ans)"
   ]
  },
  {
   "cell_type": "code",
   "execution_count": 27,
   "metadata": {},
   "outputs": [],
   "source": [
    "final_ans.columns = ['Name','Position','Company','Email','Linkedin ID']\n",
    "final_ans =final_ans[['Company','Name','Position','Email','Linkedin ID']]"
   ]
  },
  {
   "cell_type": "code",
   "execution_count": 28,
   "metadata": {},
   "outputs": [],
   "source": [
    "final_ans.head()\n",
    "final_ans.to_excel(doc_name,index = False)"
   ]
  },
  {
   "cell_type": "code",
   "execution_count": null,
   "metadata": {},
   "outputs": [],
   "source": []
  },
  {
   "cell_type": "code",
   "execution_count": null,
   "metadata": {},
   "outputs": [],
   "source": []
  },
  {
   "cell_type": "code",
   "execution_count": null,
   "metadata": {},
   "outputs": [],
   "source": []
  },
  {
   "cell_type": "code",
   "execution_count": null,
   "metadata": {},
   "outputs": [],
   "source": []
  },
  {
   "cell_type": "code",
   "execution_count": null,
   "metadata": {},
   "outputs": [],
   "source": []
  },
  {
   "cell_type": "markdown",
   "metadata": {},
   "source": [
    "# WORKINGS"
   ]
  },
  {
   "cell_type": "markdown",
   "metadata": {},
   "source": [
    "# Page Navigation"
   ]
  },
  {
   "cell_type": "markdown",
   "metadata": {},
   "source": [
    "## find next button"
   ]
  },
  {
   "cell_type": "code",
   "execution_count": 89,
   "metadata": {},
   "outputs": [
    {
     "data": {
      "text/plain": [
       "<a ng-click=\"next()\">Next</a>"
      ]
     },
     "execution_count": 89,
     "metadata": {},
     "output_type": "execute_result"
    }
   ],
   "source": [
    "soupp = BeautifulSoup(browser.page_source)\n",
    "next_but = soupp.find('li', attrs = {'class':'next'}).find('a')\n",
    "(next_but)"
   ]
  },
  {
   "cell_type": "code",
   "execution_count": 94,
   "metadata": {},
   "outputs": [],
   "source": [
    "nse = browser.find_element_by_xpath(xpath_soup(next_but))"
   ]
  },
  {
   "cell_type": "code",
   "execution_count": 95,
   "metadata": {},
   "outputs": [],
   "source": [
    "browser.execute_script('arguments[0].click()', nse)  ##this does it"
   ]
  },
  {
   "cell_type": "code",
   "execution_count": null,
   "metadata": {},
   "outputs": [],
   "source": []
  },
  {
   "cell_type": "code",
   "execution_count": null,
   "metadata": {},
   "outputs": [],
   "source": []
  },
  {
   "cell_type": "markdown",
   "metadata": {},
   "source": [
    "### find previous button"
   ]
  },
  {
   "cell_type": "code",
   "execution_count": 234,
   "metadata": {},
   "outputs": [
    {
     "data": {
      "text/plain": [
       "<a ng-click=\"previous()\">Previous</a>"
      ]
     },
     "execution_count": 234,
     "metadata": {},
     "output_type": "execute_result"
    }
   ],
   "source": [
    "soupp = BeautifulSoup(browser.page_source)\n",
    "prev = soupp.find('li', attrs = {'class':'previous'}).find('a')\n",
    "(prev)"
   ]
  },
  {
   "cell_type": "code",
   "execution_count": 235,
   "metadata": {},
   "outputs": [],
   "source": [
    "pse = browser.find_element_by_xpath(xpath_soup(prev))"
   ]
  },
  {
   "cell_type": "code",
   "execution_count": 236,
   "metadata": {},
   "outputs": [],
   "source": [
    "browser.execute_script('arguments[0].click()', pse)  ##this does it"
   ]
  },
  {
   "cell_type": "markdown",
   "metadata": {},
   "source": [
    "## Page Navigation end"
   ]
  },
  {
   "cell_type": "code",
   "execution_count": null,
   "metadata": {},
   "outputs": [],
   "source": []
  },
  {
   "cell_type": "markdown",
   "metadata": {},
   "source": [
    "## clicking each element"
   ]
  },
  {
   "cell_type": "code",
   "execution_count": 108,
   "metadata": {},
   "outputs": [],
   "source": [
    "elewa = browser.find_element_by_xpath(xpath_soup(tr[10]))"
   ]
  },
  {
   "cell_type": "code",
   "execution_count": 109,
   "metadata": {},
   "outputs": [
    {
     "data": {
      "text/plain": [
       "<selenium.webdriver.remote.webelement.WebElement (session=\"583932ed2b17875aa588cd0dc3593abd\", element=\"0962bb0d-0498-4985-ae8a-d8f74de02cb1\")>"
      ]
     },
     "execution_count": 109,
     "metadata": {},
     "output_type": "execute_result"
    }
   ],
   "source": [
    "elewa"
   ]
  },
  {
   "cell_type": "code",
   "execution_count": 110,
   "metadata": {},
   "outputs": [],
   "source": [
    "browser.execute_script('arguments[0].click()', elewa) "
   ]
  },
  {
   "cell_type": "code",
   "execution_count": null,
   "metadata": {},
   "outputs": [],
   "source": []
  },
  {
   "cell_type": "code",
   "execution_count": null,
   "metadata": {},
   "outputs": [],
   "source": []
  },
  {
   "cell_type": "markdown",
   "metadata": {},
   "source": [
    "## Clicking practice ends"
   ]
  },
  {
   "cell_type": "code",
   "execution_count": null,
   "metadata": {},
   "outputs": [],
   "source": []
  },
  {
   "cell_type": "code",
   "execution_count": 56,
   "metadata": {},
   "outputs": [],
   "source": [
    "ele = browser.find_elements_by_tag_name('tr')"
   ]
  },
  {
   "cell_type": "code",
   "execution_count": 57,
   "metadata": {},
   "outputs": [
    {
     "data": {
      "text/plain": [
       "42"
      ]
     },
     "execution_count": 57,
     "metadata": {},
     "output_type": "execute_result"
    }
   ],
   "source": [
    "len(ele)"
   ]
  },
  {
   "cell_type": "code",
   "execution_count": 66,
   "metadata": {
    "scrolled": true
   },
   "outputs": [
    {
     "data": {
      "text/plain": [
       "<selenium.webdriver.remote.webelement.WebElement (session=\"583932ed2b17875aa588cd0dc3593abd\", element=\"d01acf43-96cc-4372-82a2-fe1d24711b20\")>"
      ]
     },
     "execution_count": 66,
     "metadata": {},
     "output_type": "execute_result"
    }
   ],
   "source": [
    "ele[4]"
   ]
  },
  {
   "cell_type": "code",
   "execution_count": 213,
   "metadata": {},
   "outputs": [
    {
     "name": "stdout",
     "output_type": "stream",
     "text": [
      "hello\n"
     ]
    }
   ],
   "source": [
    "soupp = BeautifulSoup(browser.page_source)\n",
    "tr = soupp.find_all('tr', attrs = {'class':'ng-scope'})\n",
    "tr\n",
    "print('hello')"
   ]
  },
  {
   "cell_type": "code",
   "execution_count": 183,
   "metadata": {},
   "outputs": [
    {
     "data": {
      "text/plain": [
       "3"
      ]
     },
     "execution_count": 183,
     "metadata": {},
     "output_type": "execute_result"
    }
   ],
   "source": [
    "len(tr)"
   ]
  },
  {
   "cell_type": "code",
   "execution_count": 75,
   "metadata": {},
   "outputs": [
    {
     "name": "stdout",
     "output_type": "stream",
     "text": [
      "0 Adam D'Angelo\n",
      "1 Baiju Prafulkumar Bhatt\n",
      "2 Harry Zhang\n",
      "3 Kenton Kivestu\n",
      "4 Titiaan Palazzi\n",
      "5 Azeez Gupta\n",
      "6 Devansh Jain Nawal\n",
      "7 Sonia Nigam\n",
      "8 Henry Li\n",
      "9 Will Houghteling\n",
      "10 Moawia Eldeeb\n",
      "11 Thiago Teixeira\n",
      "12 Ivan Zhao\n",
      "13 Jai Pradeesh\n",
      "14 Nitesh Shroff\n",
      "15 Tejas Konduru\n",
      "16 Jaspinder Singh\n",
      "17 Shan He\n",
      "18 Ben Christensen (he/him)\n",
      "19 Meenal Goswamy\n",
      "20 Anshuman Bapna\n",
      "21 Josh Clemente\n",
      "22 Sneha Gupta\n",
      "23 Dona Jayasinghe\n",
      "24 Nandini Sankar\n"
     ]
    }
   ],
   "source": [
    "c = 0\n",
    "for i in tr :\n",
    "    td = i.find_all('td')\n",
    "    if len(td)>1 :\n",
    "        print(c, td[1].string)\n",
    "    c +=1"
   ]
  },
  {
   "cell_type": "code",
   "execution_count": 80,
   "metadata": {},
   "outputs": [
    {
     "data": {
      "text/plain": [
       "'/html/body/div[2]/div/div/div/div[5]/div[13]/div[1]/div/div/div/table/tbody/tr[25]/td[2]'"
      ]
     },
     "execution_count": 80,
     "metadata": {},
     "output_type": "execute_result"
    }
   ],
   "source": [
    "xpath_soup(td[1])"
   ]
  },
  {
   "cell_type": "code",
   "execution_count": 161,
   "metadata": {},
   "outputs": [],
   "source": [
    "\n",
    "#browser.find_element_by_xpath('/html/body/div[2]/div/div/div/div[5]/div[13]/div[1]/div/div/div/table/tbody/tr[25]').click()"
   ]
  },
  {
   "cell_type": "code",
   "execution_count": null,
   "metadata": {},
   "outputs": [],
   "source": []
  },
  {
   "cell_type": "code",
   "execution_count": null,
   "metadata": {},
   "outputs": [],
   "source": []
  },
  {
   "cell_type": "code",
   "execution_count": null,
   "metadata": {},
   "outputs": [],
   "source": []
  },
  {
   "cell_type": "code",
   "execution_count": null,
   "metadata": {},
   "outputs": [],
   "source": []
  },
  {
   "cell_type": "code",
   "execution_count": 91,
   "metadata": {},
   "outputs": [
    {
     "name": "stdout",
     "output_type": "stream",
     "text": [
      "hello world\n"
     ]
    }
   ],
   "source": [
    "print('hello world')"
   ]
  },
  {
   "cell_type": "code",
   "execution_count": null,
   "metadata": {},
   "outputs": [],
   "source": []
  },
  {
   "cell_type": "code",
   "execution_count": null,
   "metadata": {},
   "outputs": [],
   "source": []
  },
  {
   "cell_type": "markdown",
   "metadata": {},
   "source": [
    "## getting name title company and email"
   ]
  },
  {
   "cell_type": "code",
   "execution_count": 214,
   "metadata": {},
   "outputs": [
    {
     "name": "stdout",
     "output_type": "stream",
     "text": [
      "hello\n"
     ]
    }
   ],
   "source": [
    "tr\n",
    "print('hello')"
   ]
  },
  {
   "cell_type": "code",
   "execution_count": 152,
   "metadata": {},
   "outputs": [],
   "source": [
    "columns = tr[2].find_all('td')"
   ]
  },
  {
   "cell_type": "code",
   "execution_count": 160,
   "metadata": {},
   "outputs": [
    {
     "name": "stdout",
     "output_type": "stream",
     "text": [
      "Harry Zhang\n",
      "Co-Founder\n",
      "Lob\n",
      "harry@lob.com\n"
     ]
    }
   ],
   "source": [
    "for i in range(1,4): print(columns[i].string)\n",
    "print(columns[4].b.string)"
   ]
  },
  {
   "cell_type": "code",
   "execution_count": null,
   "metadata": {},
   "outputs": [],
   "source": []
  },
  {
   "cell_type": "code",
   "execution_count": null,
   "metadata": {},
   "outputs": [],
   "source": []
  },
  {
   "cell_type": "markdown",
   "metadata": {},
   "source": [
    "## getting the linkedin ids"
   ]
  },
  {
   "cell_type": "code",
   "execution_count": 134,
   "metadata": {},
   "outputs": [
    {
     "name": "stdout",
     "output_type": "stream",
     "text": [
      "11.2 ms ± 1.92 ms per loop (mean ± std. dev. of 7 runs, 100 loops each)\n"
     ]
    }
   ],
   "source": [
    "%%timeit\n",
    "lnk = soupp.find('div',attrs={'class':'list-detail-box col-xs-4'}).find('div', attrs = {'class':'panel-layout'})\n",
    "lnk1 = lnk.find('div',attrs = {'class':'panel-box'}).find('div',attrs = {'class':'panel-content pad0A bg-white'})\n",
    "lnk2 = lnk1.find('div',attrs = {'class':\"meta-box meta-box-offset\"}).find('div',attrs = {'class':'list-detail-actions'})\n",
    "lnk3 = lnk2.find('a',attrs = {'target':'_blank'})\n",
    "linkedin = lnk3['href']"
   ]
  },
  {
   "cell_type": "code",
   "execution_count": 168,
   "metadata": {},
   "outputs": [
    {
     "data": {
      "text/plain": [
       "'https://www.linkedin.com/in/divya-gokulnath'"
      ]
     },
     "execution_count": 168,
     "metadata": {},
     "output_type": "execute_result"
    }
   ],
   "source": [
    "get_linkedin_id (soupp)"
   ]
  },
  {
   "cell_type": "code",
   "execution_count": 131,
   "metadata": {},
   "outputs": [
    {
     "data": {
      "text/plain": [
       "1"
      ]
     },
     "execution_count": 131,
     "metadata": {},
     "output_type": "execute_result"
    }
   ],
   "source": [
    "len(lnk3)"
   ]
  },
  {
   "cell_type": "code",
   "execution_count": 133,
   "metadata": {},
   "outputs": [
    {
     "data": {
      "text/plain": [
       "'https://www.linkedin.com/in/divya-gokulnath'"
      ]
     },
     "execution_count": 133,
     "metadata": {},
     "output_type": "execute_result"
    }
   ],
   "source": [
    "lnk3['href']"
   ]
  },
  {
   "cell_type": "code",
   "execution_count": null,
   "metadata": {},
   "outputs": [],
   "source": []
  },
  {
   "cell_type": "code",
   "execution_count": null,
   "metadata": {},
   "outputs": [],
   "source": []
  }
 ],
 "metadata": {
  "kernelspec": {
   "display_name": "Python 3",
   "language": "python",
   "name": "python3"
  },
  "language_info": {
   "codemirror_mode": {
    "name": "ipython",
    "version": 3
   },
   "file_extension": ".py",
   "mimetype": "text/x-python",
   "name": "python",
   "nbconvert_exporter": "python",
   "pygments_lexer": "ipython3",
   "version": "3.7.4"
  }
 },
 "nbformat": 4,
 "nbformat_minor": 2
}
