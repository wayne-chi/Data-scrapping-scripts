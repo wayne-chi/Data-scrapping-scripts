{
 "cells": [
  {
   "cell_type": "code",
   "execution_count": 102,
   "metadata": {},
   "outputs": [],
   "source": [
    "import requests\n",
    "from bs4 import BeautifulSoup\n",
    "from selenium import webdriver\n",
    "#from bs4 import BeautifulSoup\n",
    "import time\n",
    "import pandas as pd"
   ]
  },
  {
   "cell_type": "code",
   "execution_count": 104,
   "metadata": {},
   "outputs": [],
   "source": [
    "chrome_options = webdriver.ChromeOptions()\n",
    "chrome_options.add_argument(\"--incognito\")\n",
    "CHROMEPATH = r'C:path'"
   ]
  },
  {
   "cell_type": "code",
   "execution_count": 58,
   "metadata": {},
   "outputs": [
    {
     "data": {
      "text/plain": [
       "{'height': 708, 'width': 1050, 'x': 0, 'y': 0}"
      ]
     },
     "execution_count": 58,
     "metadata": {},
     "output_type": "execute_result"
    }
   ],
   "source": [
    "\n",
    "login_xpath = r'/html/body/div[2]/div/div/div/div/div/form/input[3]'\n",
    "url = 'https://skrapp.io/login'\n",
    "link_url = 'https://www.linkedin.com/'\n",
    "CHROMEPATH = r'C:\\path\\chromedriver.exe'\n",
    "#'C:\\Program Files (x86)\\Google\\Chrome\\Application\\chrome.exe'\n",
    "\n",
    "# Calling the chrome browser\n",
    "\n",
    "\n",
    "browser = webdriver.Chrome(CHROMEPATH, options = chrome_options)\n",
    "browser.set_window_position(0,0)\n"
   ]
  },
  {
   "cell_type": "code",
   "execution_count": 105,
   "metadata": {},
   "outputs": [],
   "source": [
    "def create_incognito_browsers(n):\n",
    "    browsers = []\n",
    "    chrome_options = webdriver.ChromeOptions()\n",
    "    chrome_options.add_argument(\"--incognito\")\n",
    "    \n",
    "    for i in range(n):\n",
    "        browser = webdriver.Chrome(CHROMEPATH,options = chrome_options)\n",
    "        browser.set_window_position(0,0)\n",
    "\n",
    "        browser.get('https://www.google.com')\n",
    "        browser.maximize_window()\n",
    "\n",
    "        browsers.append(browser)\n",
    "       \n",
    "    \n",
    "    return browsers"
   ]
  },
  {
   "cell_type": "code",
   "execution_count": 106,
   "metadata": {},
   "outputs": [],
   "source": [
    "def segment(n,i,urls):\n",
    "    return urls[n*(i-1):n*i]"
   ]
  },
  {
   "cell_type": "code",
   "execution_count": 124,
   "metadata": {},
   "outputs": [],
   "source": [
    "\n",
    "def get_top_details(browser):\n",
    "    soupp = BeautifulSoup(browser.page_source)\n",
    "    a = soupp.find('main',attrs = {'role':'main','class':'main'}).find('section',attrs = {'class':'core-rail'},recursive = False)\n",
    "    b = a.find('section',attrs= {'top-card-layout'}).find('div',attrs= {'top-card-layout__card'}).find_all('div',recursive = False)\n",
    "    if len(b)>0:\n",
    "        follower = b[0].find('h3').text.strip()\n",
    "        follower = follower.split()[-2]\n",
    "        follower = int(''.join(follower.split(',') ))\n",
    "        company_name =  b[0].find('h1').text.strip()\n",
    "        company_motto =  b[0].find('h2').text.strip()\n",
    "        c = b[0].find_all('div',recursive = False)\n",
    "        if len(c)>0:\n",
    "            employees = int(c[-1].find('a').text.strip().split()[-2])\n",
    "        else :\n",
    "            employees = None\n",
    "\n",
    "        return [follower,company_motto,employees]\n",
    "    return [None,None,None]       \n"
   ]
  },
  {
   "cell_type": "code",
   "execution_count": 125,
   "metadata": {},
   "outputs": [],
   "source": [
    "headers = ['website','industries','company size','headquarters','type','founded','specialties']\n",
    "def get_data(browser,headers = headers):\n",
    "    soupp = BeautifulSoup(browser.page_source)\n",
    "    a = soupp.find('main',attrs = {'role':'main','class':'main'}).find('section',attrs = {'class':'core-rail'},recursive = False)\n",
    "    b = a.find('section',attrs= {'class':'about-us section-container'})\n",
    "    about_us = b.find('p',attrs= {'class':'about-us__description'}).text.strip()\n",
    "    c = b.find('dl',attrs= {'class':'about-us__basic-info-list'})\n",
    "    ple = c.find_all('div')\n",
    "    headers = ['website','industries','company size','headquarters','type','founded','specialties']\n",
    "    sdict = {a:None for a in headers}\n",
    "    sh = []\n",
    "    sb = []\n",
    "    for i in ple:\n",
    "        sdict[i.find('dt').text.strip().lower()] = i.find('dd').text.strip()\n",
    "\n",
    "    #     sh.append(i.find('dt').text.strip().lower() )\n",
    "    #     sb.append(i.find('dd').text.strip() )\n",
    "\n",
    "    # for i in range(len(sh)):\n",
    "    #     sdict[sh[i]] = sb[i]\n",
    "    anns = []\n",
    "    for i in headers:\n",
    "        anns.append(sdict[i])\n",
    "    anns.append(about_us)\n",
    "    return anns"
   ]
  },
  {
   "cell_type": "code",
   "execution_count": 126,
   "metadata": {},
   "outputs": [],
   "source": [
    "def get_info(browser):\n",
    "    d1 = get_top_details(browser)\n",
    "    d2 = get_data(browser,headers = headers)\n",
    "    d1.extend(d2)\n",
    "    return d1"
   ]
  },
  {
   "cell_type": "code",
   "execution_count": 127,
   "metadata": {},
   "outputs": [],
   "source": [
    "def run_parralell(browsers,list_urls):\n",
    "    ams = []\n",
    "\n",
    "    \n",
    "    for i in list(zip(browsers,list_urls)):\n",
    "        browser,link = i\n",
    "        browser.get(link)\n",
    "        time.sleep(1)\n",
    "        browser.execute_script(\"document.body.style.zoom= '30%'\")\n",
    "    time.sleep(15)  ## time for each browser to load page\n",
    "   \n",
    "    for i in list(zip(browsers,list_urls)) :\n",
    "        browser,link = i\n",
    "        dat = get_info(browser)\n",
    "        [link].extend(dat)\n",
    "        ams.append(dat)\n",
    "    return ams"
   ]
  },
  {
   "cell_type": "code",
   "execution_count": 134,
   "metadata": {},
   "outputs": [],
   "source": [
    "def create_incognito_browsers(n):\n",
    "    browsers = []\n",
    "    chrome_options = webdriver.ChromeOptions()\n",
    "    chrome_options.add_argument(\"--incognito\")\n",
    "    \n",
    "    for i in range(n):\n",
    "        browser = webdriver.Chrome(CHROMEPATH,options = chrome_options)\n",
    "        browser.set_window_position(0,0)\n",
    "\n",
    "        browser.get('https://www.google.com')\n",
    "        browser.maximize_window()\n",
    "\n",
    "        browsers.append(browser)\n",
    "       \n",
    "    \n",
    "    return browsers\n",
    "\n",
    "\n",
    "def segment(n,i,urls):\n",
    "    return urls[n*(i-1):n*i]\n",
    "\n",
    "\n",
    "def get_top_details(browser):\n",
    "    soupp = BeautifulSoup(browser.page_source)\n",
    "    a = soupp.find('main',attrs = {'role':'main','class':'main'}).find('section',attrs = {'class':'core-rail'},recursive = False)\n",
    "    b = a.find('section',attrs= {'top-card-layout'}).find('div',attrs= {'top-card-layout__card'}).find_all('div',recursive = False)\n",
    "    if len(b)>0:\n",
    "        try:\n",
    "            follower = b[0].find('h3').text.strip()\n",
    "            follower = follower.split()[-2]\n",
    "            follower = int(''.join(follower.split(',') ))\n",
    "        except :\n",
    "            follower = None\n",
    "        company_name =  b[0].find('h1').text.strip()\n",
    "        company_motto =  b[0].find('h2').text.strip()\n",
    "        c = b[0].find_all('div',recursive = False)\n",
    "        if len(c)>0:\n",
    "            employees = int(c[-1].find('a').text.strip().split()[-2])\n",
    "        else :\n",
    "            employees = None\n",
    "\n",
    "        return [follower,company_motto,employees]\n",
    "    return [None,None,None]       \n",
    "\n",
    "\n",
    "headers = ['website','industries','company size','headquarters','type','founded','specialties']\n",
    "def get_data(browser,headers = headers):\n",
    "    soupp = BeautifulSoup(browser.page_source)\n",
    "    a = soupp.find('main',attrs = {'role':'main','class':'main'}).find('section',attrs = {'class':'core-rail'},recursive = False)\n",
    "    b = a.find('section',attrs= {'class':'about-us section-container'})\n",
    "    about_us = b.find('p',attrs= {'class':'about-us__description'}).text.strip()\n",
    "    c = b.find('dl',attrs= {'class':'about-us__basic-info-list'})\n",
    "    ple = c.find_all('div')\n",
    "    headers = ['website','industries','company size','headquarters','type','founded','specialties']\n",
    "    sdict = {a:None for a in headers}\n",
    "    sh = []\n",
    "    sb = []\n",
    "    for i in ple:\n",
    "        sdict[i.find('dt').text.strip().lower()] = i.find('dd').text.strip()\n",
    "\n",
    "    #     sh.append(i.find('dt').text.strip().lower() )\n",
    "    #     sb.append(i.find('dd').text.strip() )\n",
    "\n",
    "    # for i in range(len(sh)):\n",
    "    #     sdict[sh[i]] = sb[i]\n",
    "    anns = []\n",
    "    for i in headers:\n",
    "        anns.append(sdict[i])\n",
    "    anns.append(about_us)\n",
    "    return anns\n",
    "\n",
    "\n",
    "def get_info(browser):\n",
    "    d1 = get_top_details(browser)\n",
    "    d2 = get_data(browser,headers = headers)\n",
    "    d1.extend(d2)\n",
    "    return d1\n",
    "\n",
    "\n",
    "def run_parralell(browsers,list_urls):\n",
    "    ams = []\n",
    "    for i in list(zip(browsers,list_urls)):\n",
    "        browser,link = i\n",
    "        browser.get(link)\n",
    "        time.sleep(1)\n",
    "        browser.execute_script(\"document.body.style.zoom= '30%'\")\n",
    "    time.sleep(15)  ## time for each browser to load page\n",
    "   \n",
    "    for i in list(zip(browsers,list_urls)) :\n",
    "        browser,link = i\n",
    "        dat = get_info(browser)\n",
    "        [link].extend(dat)\n",
    "        ams.append(dat)\n",
    "    return ams\n"
   ]
  },
  {
   "cell_type": "code",
   "execution_count": null,
   "metadata": {},
   "outputs": [],
   "source": []
  },
  {
   "cell_type": "code",
   "execution_count": null,
   "metadata": {},
   "outputs": [],
   "source": []
  },
  {
   "cell_type": "markdown",
   "metadata": {},
   "source": [
    "# Load Data Here"
   ]
  },
  {
   "cell_type": "code",
   "execution_count": 113,
   "metadata": {},
   "outputs": [
    {
     "data": {
      "text/plain": [
       "0      https://www.linkedin.com/company/wolf-&-shepherd/\n",
       "1         https://www.linkedin.com/company/story-health/\n",
       "2      https://www.linkedin.com/company/element-apothec/\n",
       "3          https://www.linkedin.com/company/secureframe/\n",
       "4       https://www.linkedin.com/company/encantosbrands/\n",
       "                             ...                        \n",
       "550           https://www.linkedin.com/company/steeleye/\n",
       "551                                                  NaN\n",
       "552                                                  NaN\n",
       "553           https://www.linkedin.com/company/get-chip/\n",
       "554                                                  NaN\n",
       "Name: company_link, Length: 555, dtype: object"
      ]
     },
     "execution_count": 113,
     "metadata": {},
     "output_type": "execute_result"
    }
   ],
   "source": [
    "df = pd.read_excel('elite.xlsx',sheet_name = 'Sheet2')\n",
    "urls = df['company_link']\n",
    "urls"
   ]
  },
  {
   "cell_type": "code",
   "execution_count": null,
   "metadata": {},
   "outputs": [],
   "source": []
  },
  {
   "cell_type": "markdown",
   "metadata": {},
   "source": [
    "# Work Here"
   ]
  },
  {
   "cell_type": "code",
   "execution_count": 114,
   "metadata": {},
   "outputs": [
    {
     "name": "stdout",
     "output_type": "stream",
     "text": [
      "enter no of browser5\n"
     ]
    }
   ],
   "source": [
    "n = int(input('enter no of browser').strip())"
   ]
  },
  {
   "cell_type": "code",
   "execution_count": 117,
   "metadata": {},
   "outputs": [],
   "source": [
    "browsers = create_incognito_browsers(n)"
   ]
  },
  {
   "cell_type": "code",
   "execution_count": 140,
   "metadata": {},
   "outputs": [],
   "source": [
    "n=2"
   ]
  },
  {
   "cell_type": "code",
   "execution_count": 141,
   "metadata": {},
   "outputs": [],
   "source": [
    "ans = []\n",
    "i = 1"
   ]
  },
  {
   "cell_type": "code",
   "execution_count": 142,
   "metadata": {},
   "outputs": [],
   "source": [
    "n=1"
   ]
  },
  {
   "cell_type": "code",
   "execution_count": 143,
   "metadata": {},
   "outputs": [
    {
     "data": {
      "text/plain": [
       "1"
      ]
     },
     "execution_count": 143,
     "metadata": {},
     "output_type": "execute_result"
    }
   ],
   "source": [
    "i"
   ]
  },
  {
   "cell_type": "code",
   "execution_count": 144,
   "metadata": {},
   "outputs": [
    {
     "name": "stdout",
     "output_type": "stream",
     "text": [
      "1 [[2434, 'Apparel & Fashion', 22, 'http://www.wolfandshepherd.com', 'Apparel & Fashion', '11-50 employees', 'El Segundo, California', 'Privately Held', '2015', 'Footwear, E-commerce, Retail, and fashion', \"Wolf & Shepherd is a Los Angeles based men's fashion brand built on the principles of innovation, performance and tradition. With running shoe technology and premium Italian leathers, our shoes are designed to aide modern workers as they move throughout the day, every day.\"]] is done\n",
      "2 [[None, 'Hospital & Health Care', 9, 'https://www.storyhealth.ai', 'Hospital & Health Care', '1-10 employees', None, 'Privately Held', '2020', None, 'Empowering Specialists with Adaptive Virtualized Care\\n\\nStory Health makes it quick and easy for specialists to understand medical situations and make clinical decisions that are implemented at scale through virtual protocols. The end result is more patients on optimal care sooner.']] is done\n",
      "3 [[437, 'Health, Wellness and Fitness', 5, 'http://www.elementapothec.com', 'Health, Wellness and Fitness', '1-10 employees', 'Los Angeles, California', 'Privately Held', '2019', 'CBD, Wellness, Health, Skincare, Bodycare, Hemp, CBD Products, Hemp Products, CPG, and Start-Up', 'Element Apothec was established with one goal in mind: to create a line of natural and organic, CBD-infused skincare and wellness products which combine the healing powers of nature with the ingenuity of innovation. From that one idea emerged a commitment to formulate products that are healthy for your body, inside and out; advocate for higher standards; and empower consumers via transparency and education, all while holding ourselves accountable to unparalleled standards of safety and quality.  Because we all deserve better.']] is done\n",
      "4 [[345, 'Computer Software', 10, 'https://secureframe.com', 'Computer Software', '11-50 employees', 'San Francisco, CA', 'Privately Held', '2020', 'SOC 2, ISO 27001, Security, Compliance, and Audit', 'Secureframe helps companies get enterprise ready by streamlining SOC 2 and ISO 27001 compliance. Secureframe allows companies to get compliant within weeks, rather than months and monitors 30+ services, including AWS, GCP, and Azure.']] is done\n",
      "5 [[4130, 'E-Learning', 88, 'http://www.encantosbrands.com', 'E-Learning', '11-50 employees', 'Culver City, CA', 'Privately Held', '2016', 'Family Entertainment, Education, Apps, Children Books, Sing-A-Long Videos, Consumer Products, Direct-to-Consumer, E-Commerce, Subscriptions, Content, Publishing, Music, Toys, Video Games, Family Brands, Kids, K-12, Diversity, and B Corp', \"Encantos is an award-winning edtech company that believes kids learn best through play.  Focused on teaching 21st century learning, literacy, and life skills, Encantos builds direct-to-consumer brands with its unique “storyteaching” approach that kids and parents love.  Its brands come to life using a blended learning approach via digital and physical products, including subscription apps and boxes, animated series, books, puzzles and games that all work together to entertain, educate and inspire kids of all ages.\\n\\nEncantos' family brands include the Emmy-nominated and 2x Kidscreen award-winning #1 bilingual preschool brand Canticos, the Day of the Dead-inspired resilience brand Skeletitos, and the adventure-based travel brand Tiny Travelers.  Encantos has received numerous industry awards and accolades from the AP, ASU GSV, CNN, Common Sense Media, Forbes, Kidscreen, Kirkus Reviews, NBC News, The New York Times, NPR, Parents Magazine, Publishers Weekly, Romper, School Library Journal, Univision and USA Today. Headquartered in Culver City, CA, Encantos is a proud Latinx-led and women-owned public benefit corporation that puts diversity, equality, and inclusion at the heart of everything it creates.\"]] is done\n"
     ]
    },
    {
     "ename": "AttributeError",
     "evalue": "'NoneType' object has no attribute 'find'",
     "output_type": "error",
     "traceback": [
      "\u001b[1;31m---------------------------------------------------------------------------\u001b[0m",
      "\u001b[1;31mAttributeError\u001b[0m                            Traceback (most recent call last)",
      "\u001b[1;32m<ipython-input-144-0e141ad7f051>\u001b[0m in \u001b[0;36m<module>\u001b[1;34m\u001b[0m\n\u001b[0;32m      1\u001b[0m \u001b[0mj\u001b[0m\u001b[1;33m=\u001b[0m\u001b[0mi\u001b[0m\u001b[1;33m\u001b[0m\u001b[1;33m\u001b[0m\u001b[0m\n\u001b[0;32m      2\u001b[0m \u001b[1;32mfor\u001b[0m \u001b[0mi\u001b[0m \u001b[1;32min\u001b[0m \u001b[0mrange\u001b[0m\u001b[1;33m(\u001b[0m\u001b[0mi\u001b[0m\u001b[1;33m,\u001b[0m\u001b[0mint\u001b[0m\u001b[1;33m(\u001b[0m\u001b[0mlen\u001b[0m\u001b[1;33m(\u001b[0m\u001b[0murls\u001b[0m\u001b[1;33m)\u001b[0m\u001b[1;33m/\u001b[0m\u001b[0mn\u001b[0m \u001b[1;33m+\u001b[0m\u001b[1;36m1\u001b[0m\u001b[1;33m)\u001b[0m\u001b[1;33m)\u001b[0m \u001b[1;33m:\u001b[0m \u001b[1;31m#len(urls)\u001b[0m\u001b[1;33m\u001b[0m\u001b[1;33m\u001b[0m\u001b[0m\n\u001b[1;32m----> 3\u001b[1;33m     \u001b[0mlst\u001b[0m \u001b[1;33m=\u001b[0m \u001b[0mrun_parralell\u001b[0m\u001b[1;33m(\u001b[0m\u001b[0mbrowsers\u001b[0m\u001b[1;33m,\u001b[0m\u001b[0msegment\u001b[0m\u001b[1;33m(\u001b[0m\u001b[0mn\u001b[0m\u001b[1;33m,\u001b[0m\u001b[0mi\u001b[0m\u001b[1;33m,\u001b[0m\u001b[0murls\u001b[0m\u001b[1;33m)\u001b[0m\u001b[1;33m)\u001b[0m\u001b[1;33m\u001b[0m\u001b[1;33m\u001b[0m\u001b[0m\n\u001b[0m\u001b[0;32m      4\u001b[0m     \u001b[0mans\u001b[0m\u001b[1;33m.\u001b[0m\u001b[0mextend\u001b[0m\u001b[1;33m(\u001b[0m\u001b[0mlst\u001b[0m\u001b[1;33m)\u001b[0m\u001b[1;33m\u001b[0m\u001b[1;33m\u001b[0m\u001b[0m\n\u001b[0;32m      5\u001b[0m     \u001b[0mprint\u001b[0m\u001b[1;33m(\u001b[0m\u001b[0mi\u001b[0m\u001b[1;33m,\u001b[0m\u001b[0mlst\u001b[0m\u001b[1;33m,\u001b[0m\u001b[1;34m'is done'\u001b[0m\u001b[1;33m)\u001b[0m\u001b[1;33m\u001b[0m\u001b[1;33m\u001b[0m\u001b[0m\n",
      "\u001b[1;32m<ipython-input-134-0ab41909a1b7>\u001b[0m in \u001b[0;36mrun_parralell\u001b[1;34m(browsers, list_urls)\u001b[0m\n\u001b[0;32m     89\u001b[0m     \u001b[1;32mfor\u001b[0m \u001b[0mi\u001b[0m \u001b[1;32min\u001b[0m \u001b[0mlist\u001b[0m\u001b[1;33m(\u001b[0m\u001b[0mzip\u001b[0m\u001b[1;33m(\u001b[0m\u001b[0mbrowsers\u001b[0m\u001b[1;33m,\u001b[0m\u001b[0mlist_urls\u001b[0m\u001b[1;33m)\u001b[0m\u001b[1;33m)\u001b[0m \u001b[1;33m:\u001b[0m\u001b[1;33m\u001b[0m\u001b[1;33m\u001b[0m\u001b[0m\n\u001b[0;32m     90\u001b[0m         \u001b[0mbrowser\u001b[0m\u001b[1;33m,\u001b[0m\u001b[0mlink\u001b[0m \u001b[1;33m=\u001b[0m \u001b[0mi\u001b[0m\u001b[1;33m\u001b[0m\u001b[1;33m\u001b[0m\u001b[0m\n\u001b[1;32m---> 91\u001b[1;33m         \u001b[0mdat\u001b[0m \u001b[1;33m=\u001b[0m \u001b[0mget_info\u001b[0m\u001b[1;33m(\u001b[0m\u001b[0mbrowser\u001b[0m\u001b[1;33m)\u001b[0m\u001b[1;33m\u001b[0m\u001b[1;33m\u001b[0m\u001b[0m\n\u001b[0m\u001b[0;32m     92\u001b[0m         \u001b[1;33m[\u001b[0m\u001b[0mlink\u001b[0m\u001b[1;33m]\u001b[0m\u001b[1;33m.\u001b[0m\u001b[0mextend\u001b[0m\u001b[1;33m(\u001b[0m\u001b[0mdat\u001b[0m\u001b[1;33m)\u001b[0m\u001b[1;33m\u001b[0m\u001b[1;33m\u001b[0m\u001b[0m\n\u001b[0;32m     93\u001b[0m         \u001b[0mams\u001b[0m\u001b[1;33m.\u001b[0m\u001b[0mappend\u001b[0m\u001b[1;33m(\u001b[0m\u001b[0mdat\u001b[0m\u001b[1;33m)\u001b[0m\u001b[1;33m\u001b[0m\u001b[1;33m\u001b[0m\u001b[0m\n",
      "\u001b[1;32m<ipython-input-134-0ab41909a1b7>\u001b[0m in \u001b[0;36mget_info\u001b[1;34m(browser)\u001b[0m\n\u001b[0;32m     72\u001b[0m \u001b[1;33m\u001b[0m\u001b[0m\n\u001b[0;32m     73\u001b[0m \u001b[1;32mdef\u001b[0m \u001b[0mget_info\u001b[0m\u001b[1;33m(\u001b[0m\u001b[0mbrowser\u001b[0m\u001b[1;33m)\u001b[0m\u001b[1;33m:\u001b[0m\u001b[1;33m\u001b[0m\u001b[1;33m\u001b[0m\u001b[0m\n\u001b[1;32m---> 74\u001b[1;33m     \u001b[0md1\u001b[0m \u001b[1;33m=\u001b[0m \u001b[0mget_top_details\u001b[0m\u001b[1;33m(\u001b[0m\u001b[0mbrowser\u001b[0m\u001b[1;33m)\u001b[0m\u001b[1;33m\u001b[0m\u001b[1;33m\u001b[0m\u001b[0m\n\u001b[0m\u001b[0;32m     75\u001b[0m     \u001b[0md2\u001b[0m \u001b[1;33m=\u001b[0m \u001b[0mget_data\u001b[0m\u001b[1;33m(\u001b[0m\u001b[0mbrowser\u001b[0m\u001b[1;33m,\u001b[0m\u001b[0mheaders\u001b[0m \u001b[1;33m=\u001b[0m \u001b[0mheaders\u001b[0m\u001b[1;33m)\u001b[0m\u001b[1;33m\u001b[0m\u001b[1;33m\u001b[0m\u001b[0m\n\u001b[0;32m     76\u001b[0m     \u001b[0md1\u001b[0m\u001b[1;33m.\u001b[0m\u001b[0mextend\u001b[0m\u001b[1;33m(\u001b[0m\u001b[0md2\u001b[0m\u001b[1;33m)\u001b[0m\u001b[1;33m\u001b[0m\u001b[1;33m\u001b[0m\u001b[0m\n",
      "\u001b[1;32m<ipython-input-134-0ab41909a1b7>\u001b[0m in \u001b[0;36mget_top_details\u001b[1;34m(browser)\u001b[0m\n\u001b[0;32m     23\u001b[0m \u001b[1;32mdef\u001b[0m \u001b[0mget_top_details\u001b[0m\u001b[1;33m(\u001b[0m\u001b[0mbrowser\u001b[0m\u001b[1;33m)\u001b[0m\u001b[1;33m:\u001b[0m\u001b[1;33m\u001b[0m\u001b[1;33m\u001b[0m\u001b[0m\n\u001b[0;32m     24\u001b[0m     \u001b[0msoupp\u001b[0m \u001b[1;33m=\u001b[0m \u001b[0mBeautifulSoup\u001b[0m\u001b[1;33m(\u001b[0m\u001b[0mbrowser\u001b[0m\u001b[1;33m.\u001b[0m\u001b[0mpage_source\u001b[0m\u001b[1;33m)\u001b[0m\u001b[1;33m\u001b[0m\u001b[1;33m\u001b[0m\u001b[0m\n\u001b[1;32m---> 25\u001b[1;33m     \u001b[0ma\u001b[0m \u001b[1;33m=\u001b[0m \u001b[0msoupp\u001b[0m\u001b[1;33m.\u001b[0m\u001b[0mfind\u001b[0m\u001b[1;33m(\u001b[0m\u001b[1;34m'main'\u001b[0m\u001b[1;33m,\u001b[0m\u001b[0mattrs\u001b[0m \u001b[1;33m=\u001b[0m \u001b[1;33m{\u001b[0m\u001b[1;34m'role'\u001b[0m\u001b[1;33m:\u001b[0m\u001b[1;34m'main'\u001b[0m\u001b[1;33m,\u001b[0m\u001b[1;34m'class'\u001b[0m\u001b[1;33m:\u001b[0m\u001b[1;34m'main'\u001b[0m\u001b[1;33m}\u001b[0m\u001b[1;33m)\u001b[0m\u001b[1;33m.\u001b[0m\u001b[0mfind\u001b[0m\u001b[1;33m(\u001b[0m\u001b[1;34m'section'\u001b[0m\u001b[1;33m,\u001b[0m\u001b[0mattrs\u001b[0m \u001b[1;33m=\u001b[0m \u001b[1;33m{\u001b[0m\u001b[1;34m'class'\u001b[0m\u001b[1;33m:\u001b[0m\u001b[1;34m'core-rail'\u001b[0m\u001b[1;33m}\u001b[0m\u001b[1;33m,\u001b[0m\u001b[0mrecursive\u001b[0m \u001b[1;33m=\u001b[0m \u001b[1;32mFalse\u001b[0m\u001b[1;33m)\u001b[0m\u001b[1;33m\u001b[0m\u001b[1;33m\u001b[0m\u001b[0m\n\u001b[0m\u001b[0;32m     26\u001b[0m     \u001b[0mb\u001b[0m \u001b[1;33m=\u001b[0m \u001b[0ma\u001b[0m\u001b[1;33m.\u001b[0m\u001b[0mfind\u001b[0m\u001b[1;33m(\u001b[0m\u001b[1;34m'section'\u001b[0m\u001b[1;33m,\u001b[0m\u001b[0mattrs\u001b[0m\u001b[1;33m=\u001b[0m \u001b[1;33m{\u001b[0m\u001b[1;34m'top-card-layout'\u001b[0m\u001b[1;33m}\u001b[0m\u001b[1;33m)\u001b[0m\u001b[1;33m.\u001b[0m\u001b[0mfind\u001b[0m\u001b[1;33m(\u001b[0m\u001b[1;34m'div'\u001b[0m\u001b[1;33m,\u001b[0m\u001b[0mattrs\u001b[0m\u001b[1;33m=\u001b[0m \u001b[1;33m{\u001b[0m\u001b[1;34m'top-card-layout__card'\u001b[0m\u001b[1;33m}\u001b[0m\u001b[1;33m)\u001b[0m\u001b[1;33m.\u001b[0m\u001b[0mfind_all\u001b[0m\u001b[1;33m(\u001b[0m\u001b[1;34m'div'\u001b[0m\u001b[1;33m,\u001b[0m\u001b[0mrecursive\u001b[0m \u001b[1;33m=\u001b[0m \u001b[1;32mFalse\u001b[0m\u001b[1;33m)\u001b[0m\u001b[1;33m\u001b[0m\u001b[1;33m\u001b[0m\u001b[0m\n\u001b[0;32m     27\u001b[0m     \u001b[1;32mif\u001b[0m \u001b[0mlen\u001b[0m\u001b[1;33m(\u001b[0m\u001b[0mb\u001b[0m\u001b[1;33m)\u001b[0m\u001b[1;33m>\u001b[0m\u001b[1;36m0\u001b[0m\u001b[1;33m:\u001b[0m\u001b[1;33m\u001b[0m\u001b[1;33m\u001b[0m\u001b[0m\n",
      "\u001b[1;31mAttributeError\u001b[0m: 'NoneType' object has no attribute 'find'"
     ]
    }
   ],
   "source": [
    "j=i\n",
    "for i in range(i,int(len(urls)/n +1)) : #len(urls)\n",
    "    lst = run_parralell(browsers,segment(n,i,urls))\n",
    "    ans.extend(lst)\n",
    "    print(i,lst,'is done')"
   ]
  },
  {
   "cell_type": "code",
   "execution_count": null,
   "metadata": {},
   "outputs": [],
   "source": [
    "ans.extend( run_parralell(browsers,urls[n*int(len(urls)/n):]) )"
   ]
  },
  {
   "cell_type": "code",
   "execution_count": null,
   "metadata": {},
   "outputs": [],
   "source": [
    "ans_df = pd.DataFrame(ans)\n",
    "ans_df.columns = ['Company linkedin Id','company_follower','company_motto','employees_on_linkedin','website','industries','company size','headquarters','type','founded','specialties','About us']\n",
    "\n",
    "ans_df"
   ]
  },
  {
   "cell_type": "code",
   "execution_count": null,
   "metadata": {},
   "outputs": [],
   "source": []
  },
  {
   "cell_type": "code",
   "execution_count": null,
   "metadata": {},
   "outputs": [],
   "source": []
  },
  {
   "cell_type": "code",
   "execution_count": null,
   "metadata": {},
   "outputs": [],
   "source": []
  },
  {
   "cell_type": "code",
   "execution_count": null,
   "metadata": {},
   "outputs": [],
   "source": []
  },
  {
   "cell_type": "code",
   "execution_count": null,
   "metadata": {},
   "outputs": [],
   "source": []
  },
  {
   "cell_type": "code",
   "execution_count": null,
   "metadata": {},
   "outputs": [],
   "source": []
  },
  {
   "cell_type": "code",
   "execution_count": null,
   "metadata": {},
   "outputs": [],
   "source": []
  },
  {
   "cell_type": "code",
   "execution_count": null,
   "metadata": {},
   "outputs": [],
   "source": []
  },
  {
   "cell_type": "code",
   "execution_count": null,
   "metadata": {},
   "outputs": [],
   "source": []
  },
  {
   "cell_type": "code",
   "execution_count": null,
   "metadata": {},
   "outputs": [],
   "source": []
  },
  {
   "cell_type": "code",
   "execution_count": null,
   "metadata": {},
   "outputs": [],
   "source": []
  },
  {
   "cell_type": "code",
   "execution_count": null,
   "metadata": {},
   "outputs": [],
   "source": []
  },
  {
   "cell_type": "code",
   "execution_count": null,
   "metadata": {},
   "outputs": [],
   "source": []
  },
  {
   "cell_type": "code",
   "execution_count": null,
   "metadata": {},
   "outputs": [],
   "source": []
  },
  {
   "cell_type": "code",
   "execution_count": null,
   "metadata": {},
   "outputs": [],
   "source": []
  },
  {
   "cell_type": "code",
   "execution_count": null,
   "metadata": {},
   "outputs": [],
   "source": []
  },
  {
   "cell_type": "code",
   "execution_count": 74,
   "metadata": {},
   "outputs": [
    {
     "data": {
      "text/plain": [
       "{'height': 708, 'width': 1050, 'x': 0, 'y': 0}"
      ]
     },
     "execution_count": 74,
     "metadata": {},
     "output_type": "execute_result"
    }
   ],
   "source": [
    "\n",
    "browser3 = webdriver.Chrome(CHROMEPATH,options = chrome_options)\n",
    "browser.set_window_position(0,0)"
   ]
  },
  {
   "cell_type": "code",
   "execution_count": 79,
   "metadata": {},
   "outputs": [],
   "source": [
    "\n",
    "def get_top_details(browser):\n",
    "    soupp = BeautifulSoup(browser.page_source)\n",
    "    a = soupp.find('main',attrs = {'role':'main','class':'main'}).find('section',attrs = {'class':'core-rail'},recursive = False)\n",
    "    b = a.find('section',attrs= {'top-card-layout'}).find('div',attrs= {'top-card-layout__card'}).find_all('div',recursive = False)\n",
    "    if len(b)>0:\n",
    "        follower = b[0].find('h3').text.strip()\n",
    "        follower = follower.split()[-2]\n",
    "        follower = int(''.join(follower.split(',') ))\n",
    "        company_name =  b[0].find('h1').text.strip()\n",
    "        company_motto =  b[0].find('h2').text.strip()\n",
    "        c = b[0].find_all('div',recursive = False)\n",
    "        if len(c)>0:\n",
    "            employees = int(c[-1].find('a').text.strip().split()[-2])\n",
    "        else :\n",
    "            employees = None\n",
    "\n",
    "        return [follower,company_motto,employees]\n",
    "    return [None,None,None]       \n"
   ]
  },
  {
   "cell_type": "code",
   "execution_count": 80,
   "metadata": {},
   "outputs": [
    {
     "data": {
      "text/plain": [
       "[373, 'Computer Software', 9]"
      ]
     },
     "execution_count": 80,
     "metadata": {},
     "output_type": "execute_result"
    }
   ],
   "source": [
    "browser3.execute_script(\"document.body.style.zoom = '70%'\")\n",
    "get_top_details(browser3)"
   ]
  },
  {
   "cell_type": "code",
   "execution_count": 95,
   "metadata": {},
   "outputs": [
    {
     "data": {
      "text/plain": [
       "['http://cosell.io',\n",
       " 'Computer Software',\n",
       " '1-10 employees',\n",
       " 'Austin, Texas',\n",
       " 'Privately Held',\n",
       " '2020',\n",
       " None,\n",
       " 'Unlock the full potential of your most valuable partnerships by selling as an aligned team in real-time. Massively expand your connected customer base by exchanging powerful introductions with your partners into key accounts. CoSell is a secure partnership collaboration network that reveals your most strategic partners with account overlaps for revenue growth.\\n\\nScale your revenue by establishing trusted relationships with your strategic partners. Embrace your competitive advantage with the best warm introductions from the right strategic partners. Manage all of your partner relationships and communication securely from one powerful, sleek and unified platform.']"
      ]
     },
     "execution_count": 95,
     "metadata": {},
     "output_type": "execute_result"
    }
   ],
   "source": [
    "get_data(browser3)"
   ]
  },
  {
   "cell_type": "code",
   "execution_count": 89,
   "metadata": {},
   "outputs": [
    {
     "data": {
      "text/plain": [
       "['http://cosell.io',\n",
       " 'Computer Software',\n",
       " '1-10 employees',\n",
       " 'Austin, Texas',\n",
       " 'Privately Held',\n",
       " '2020',\n",
       " None]"
      ]
     },
     "execution_count": 89,
     "metadata": {},
     "output_type": "execute_result"
    }
   ],
   "source": [
    "anns"
   ]
  },
  {
   "cell_type": "code",
   "execution_count": 69,
   "metadata": {},
   "outputs": [],
   "source": [
    "browser.get('https://www.linkedin.com/in/brendon/')"
   ]
  },
  {
   "cell_type": "code",
   "execution_count": 43,
   "metadata": {},
   "outputs": [],
   "source": [
    "sopp = BeautifulSoup(browser.page_source)"
   ]
  },
  {
   "cell_type": "code",
   "execution_count": 96,
   "metadata": {},
   "outputs": [],
   "source": [
    "def _get_company_linkedin(a):\n",
    "    #a = sopp.find('main',attrs = {'class':'core-rail'})\n",
    "    g = a.find('section', attrs = {'id':'experience-section'}).find('ul')\n",
    "    h =g.find_all('li')\n",
    "    Company_mail = 'https://www.linkedin.com'+h[0].find('a')['href']\n",
    "    return Company_mail\n",
    "    "
   ]
  },
  {
   "cell_type": "code",
   "execution_count": 46,
   "metadata": {},
   "outputs": [],
   "source": [
    "g = a.find('section', attrs = {'id':'experience-section'}).find('ul')"
   ]
  },
  {
   "cell_type": "code",
   "execution_count": 47,
   "metadata": {},
   "outputs": [],
   "source": [
    "h =g.find_all('li')"
   ]
  },
  {
   "cell_type": "code",
   "execution_count": 71,
   "metadata": {},
   "outputs": [],
   "source": [
    "Company_mail = 'https://www.linkedin.com'+h[0].find('a')['href']"
   ]
  },
  {
   "cell_type": "code",
   "execution_count": 72,
   "metadata": {},
   "outputs": [
    {
     "data": {
      "text/plain": [
       "'https://www.linkedin.com/company/cosell/'"
      ]
     },
     "execution_count": 72,
     "metadata": {},
     "output_type": "execute_result"
    }
   ],
   "source": [
    "Company_mail"
   ]
  },
  {
   "cell_type": "code",
   "execution_count": 75,
   "metadata": {},
   "outputs": [],
   "source": [
    "browser3.get(Company_mail)"
   ]
  },
  {
   "cell_type": "code",
   "execution_count": null,
   "metadata": {},
   "outputs": [],
   "source": []
  },
  {
   "cell_type": "code",
   "execution_count": null,
   "metadata": {},
   "outputs": [],
   "source": []
  },
  {
   "cell_type": "code",
   "execution_count": null,
   "metadata": {},
   "outputs": [],
   "source": []
  },
  {
   "cell_type": "code",
   "execution_count": null,
   "metadata": {},
   "outputs": [],
   "source": []
  },
  {
   "cell_type": "code",
   "execution_count": 15,
   "metadata": {},
   "outputs": [],
   "source": [
    "b = a.find('section',attrs= {'top-card-layout'}).find('div',attrs= {'top-card-layout__card'}).find_all('div',recursive = False)"
   ]
  },
  {
   "cell_type": "code",
   "execution_count": 16,
   "metadata": {},
   "outputs": [
    {
     "data": {
      "text/plain": [
       "2"
      ]
     },
     "execution_count": 16,
     "metadata": {},
     "output_type": "execute_result"
    }
   ],
   "source": [
    "len(b)"
   ]
  },
  {
   "cell_type": "code",
   "execution_count": 22,
   "metadata": {},
   "outputs": [],
   "source": [
    "follower = b[0].find('h3').text.strip()"
   ]
  },
  {
   "cell_type": "code",
   "execution_count": 26,
   "metadata": {},
   "outputs": [
    {
     "data": {
      "text/plain": [
       "'1,901'"
      ]
     },
     "execution_count": 26,
     "metadata": {},
     "output_type": "execute_result"
    }
   ],
   "source": [
    "follower.split(' ')[-2]"
   ]
  },
  {
   "cell_type": "code",
   "execution_count": 27,
   "metadata": {},
   "outputs": [],
   "source": [
    "company_name =  b[0].find('h1').text.strip()"
   ]
  },
  {
   "cell_type": "code",
   "execution_count": 28,
   "metadata": {},
   "outputs": [
    {
     "data": {
      "text/plain": [
       "'Information Technology and Services'"
      ]
     },
     "execution_count": 28,
     "metadata": {},
     "output_type": "execute_result"
    }
   ],
   "source": [
    "company_motto =  b[0].find('h2').text.strip()\n",
    "company_motto"
   ]
  },
  {
   "cell_type": "code",
   "execution_count": 36,
   "metadata": {},
   "outputs": [],
   "source": [
    "c = b[0].find_all('div',recursive = False)"
   ]
  },
  {
   "cell_type": "code",
   "execution_count": 37,
   "metadata": {},
   "outputs": [
    {
     "data": {
      "text/plain": [
       "2"
      ]
     },
     "execution_count": 37,
     "metadata": {},
     "output_type": "execute_result"
    }
   ],
   "source": [
    "len(c)"
   ]
  },
  {
   "cell_type": "code",
   "execution_count": 41,
   "metadata": {},
   "outputs": [
    {
     "data": {
      "text/plain": [
       "8"
      ]
     },
     "execution_count": 41,
     "metadata": {},
     "output_type": "execute_result"
    }
   ],
   "source": [
    "employees = int(c[-1].find('a').text.strip().split()[-2])\n",
    "employees"
   ]
  }
 ],
 "metadata": {
  "kernelspec": {
   "display_name": "Python 3",
   "language": "python",
   "name": "python3"
  },
  "language_info": {
   "codemirror_mode": {
    "name": "ipython",
    "version": 3
   },
   "file_extension": ".py",
   "mimetype": "text/x-python",
   "name": "python",
   "nbconvert_exporter": "python",
   "pygments_lexer": "ipython3",
   "version": "3.7.4"
  }
 },
 "nbformat": 4,
 "nbformat_minor": 2
}
