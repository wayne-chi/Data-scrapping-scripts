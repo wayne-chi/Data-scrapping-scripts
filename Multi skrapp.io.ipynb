{
 "cells": [
  {
   "cell_type": "code",
   "execution_count": 1,
   "metadata": {},
   "outputs": [],
   "source": [
    "import requests\n",
    "from bs4 import BeautifulSoup\n",
    "from selenium import webdriver\n",
    "#from bs4 import BeautifulSoup\n",
    "import time"
   ]
  },
  {
   "cell_type": "code",
   "execution_count": 2,
   "metadata": {},
   "outputs": [],
   "source": [
    "import pandas as pd"
   ]
  },
  {
   "cell_type": "code",
   "execution_count": 3,
   "metadata": {},
   "outputs": [],
   "source": [
    "login_data = {\n",
    "    'email': 'email@gmail.com',\n",
    "    'password' : '********',\n",
    "    'remember': 'on',\n",
    "    \n",
    "}"
   ]
  },
  {
   "cell_type": "code",
   "execution_count": 4,
   "metadata": {},
   "outputs": [],
   "source": [
    "def xpath_soup(element):\n",
    "    components = []\n",
    "    child = element if element.name else element.parent\n",
    "    for parent in child.parents:  # type: bs4.element.Tag\n",
    "        siblings = parent.find_all(child.name, recursive=False)\n",
    "        components.append(\n",
    "            child.name if 1 == len(siblings) else '%s[%d]' % (\n",
    "                child.name,\n",
    "                next(i for i, s in enumerate(siblings, 1) if s is child)\n",
    "                )\n",
    "            )\n",
    "        child = parent\n",
    "    components.reverse()\n",
    "    return '/%s' % '/'.join(components)"
   ]
  },
  {
   "cell_type": "code",
   "execution_count": 5,
   "metadata": {},
   "outputs": [],
   "source": [
    "def get_linkedin_id (soupp):\n",
    "    lnk = soupp.find('div',attrs={'class':'list-detail-box col-xs-4'}).find('div', attrs = {'class':'panel-layout'})\n",
    "    lnk1 = lnk.find('div',attrs = {'class':'panel-box'}).find('div',attrs = {'class':'panel-content pad0A bg-white'})\n",
    "    lnk2 = lnk1.find('div',attrs = {'class':\"meta-box meta-box-offset\"}).find('div',attrs = {'class':'list-detail-actions'})\n",
    "    lnk3 = lnk2.find('a',attrs = {'target':'_blank'})\n",
    "    linkedin = lnk3['href']\n",
    "    return linkedin"
   ]
  },
  {
   "cell_type": "markdown",
   "metadata": {},
   "source": [
    "## Enter list of emails here with same password"
   ]
  },
  {
   "cell_type": "code",
   "execution_count": 6,
   "metadata": {},
   "outputs": [],
   "source": [
    "emails = ['rajatsharma.rs8@gmail.com']\n"
   ]
  },
  {
   "cell_type": "code",
   "execution_count": 7,
   "metadata": {},
   "outputs": [
    {
     "data": {
      "text/plain": [
       "['rajatsharma.rs8@gmail.com']"
      ]
     },
     "execution_count": 7,
     "metadata": {},
     "output_type": "execute_result"
    }
   ],
   "source": [
    "emails"
   ]
  },
  {
   "cell_type": "raw",
   "metadata": {},
   "source": [
    "doc_name = "
   ]
  },
  {
   "cell_type": "markdown",
   "metadata": {},
   "source": [
    "doc_name[:-10]"
   ]
  },
  {
   "cell_type": "markdown",
   "metadata": {},
   "source": [
    "## Code proper"
   ]
  },
  {
   "cell_type": "code",
   "execution_count": 8,
   "metadata": {},
   "outputs": [
    {
     "name": "stdout",
     "output_type": "stream",
     "text": [
      "hi\n",
      "10 1  9\n",
      "25\n",
      "25\n",
      "25\n",
      "25\n",
      "25\n",
      "25\n",
      "25\n",
      "19\n",
      "0\n",
      "0\n"
     ]
    }
   ],
   "source": [
    "for numbn in range(len(emails)):\n",
    "    ema = emails[numbn]\n",
    "    pswd = '****'\n",
    "    login_data['email'] = ema\n",
    "    login_data['password'] = pswd\n",
    "\n",
    "    doc_name = emails[numbn][:-10]+'.xlsx'\n",
    "\n",
    "    login_xpath = r'/html/body/div[2]/div/div/div/div/div/form/input[3]'\n",
    "    url = 'https://skrapp.io/login'\n",
    "\n",
    "    CHROMEPATH = r'C:\\Users\\Godswill Otto\\Desktop\\New folder\\telegram\\chromedriver.exe'\n",
    "    #'C:\\Program Files (x86)\\Google\\Chrome\\Application\\chrome.exe'\n",
    "    \n",
    "    # Calling the chrome browser\n",
    "    \n",
    "    browser = webdriver.Chrome(CHROMEPATH)\n",
    "    browser.set_window_position(0,0)\n",
    "    \n",
    "    # Get the login page\n",
    "    \n",
    "    browser.get(url)\n",
    "    browser.find_element_by_name(\"email\").send_keys(login_data['email'])\n",
    "    browser.find_element_by_name(\"pwd\").send_keys(login_data['password'])\n",
    "    browser.find_element_by_xpath(login_xpath).click()\n",
    "    soupp = BeautifulSoup(browser.page_source)\n",
    "    print('hi')\n",
    "    ans = []\n",
    "    p = soupp.find_all('li', )\n",
    "    w = 0\n",
    "    for i in p[-10:]:\n",
    "        w+=1\n",
    "        if i.find('a',attrs = {'class':\"ng-binding\" }):\n",
    "            dum = i.find('a',attrs = {'class':\"ng-binding\" })\n",
    "            dumm = dum.getText() #or .string\n",
    "            start = int(dumm.split('/')[0] )\n",
    "            end = int(dumm.split('/')[1])\n",
    "\n",
    "\n",
    "    print(end,start,'',(end)-(start))\n",
    "    ans = []\n",
    "    for page_no in range(0,end) :\n",
    "\n",
    "        soupp = BeautifulSoup(browser.page_source)\n",
    "        tr = soupp.find_all('tr', attrs = {'class':'ng-scope'})\n",
    "        print(len(tr))\n",
    "        for row in range(len(tr)):\n",
    "            try:\n",
    "                soupp = BeautifulSoup(browser.page_source)\n",
    "                tr = soupp.find_all('tr', attrs = {'class':'ng-scope'})\n",
    "\n",
    "                elewa = browser.find_element_by_xpath(xpath_soup(tr[row]))\n",
    "                browser.execute_script('arguments[0].click()', elewa) \n",
    "\n",
    "                soupp = BeautifulSoup(browser.page_source)\n",
    "                row_elements = []\n",
    "                columns = tr[row].find_all('td')\n",
    "                for i in range(1,4): row_elements.append(columns[i].string)\n",
    "                row_elements.append(columns[4].b.string)\n",
    "\n",
    "\n",
    "                linkedin_id = get_linkedin_id (soupp)\n",
    "                row_elements.append( linkedin_id )\n",
    "                ans.append(row_elements)\n",
    "            except:\n",
    "                pass\n",
    "                #ans.append([None,None,None,None,None])\n",
    "\n",
    "        ## find and click next button\n",
    "\n",
    "        #soupp = BeautifulSoup(browser.page_source)\n",
    "        next_but = soupp.find('li', attrs = {'class':'next'}).find('a')\n",
    "        #(next_but)\n",
    "        nse = browser.find_element_by_xpath(xpath_soup(next_but))\n",
    "        browser.execute_script('arguments[0].click()', nse)  ##this does it\n",
    "        time.sleep(2)\n",
    "        #loops continue\n",
    "    # quit browser    \n",
    "    browser.quit()\n",
    "    \n",
    "    # take to document\n",
    "    \n",
    "    len(ans)\n",
    "    final_ans = pd.DataFrame(ans)\n",
    "    final_ans.columns = ['Name','Position','Company','Email','Linkedin ID']\n",
    "    \n",
    "    finally_ans = final_ans[['Company','Name','Position','Email','Linkedin ID']]\n",
    "    finally_ans.to_excel(doc_name,index = False)\n",
    "    "
   ]
  },
  {
   "cell_type": "code",
   "execution_count": 9,
   "metadata": {},
   "outputs": [
    {
     "name": "stdout",
     "output_type": "stream",
     "text": [
      "done\n"
     ]
    }
   ],
   "source": [
    "print('done')"
   ]
  },
  {
   "cell_type": "code",
   "execution_count": null,
   "metadata": {},
   "outputs": [],
   "source": []
  }
 ],
 "metadata": {
  "kernelspec": {
   "display_name": "Python 3",
   "language": "python",
   "name": "python3"
  },
  "language_info": {
   "codemirror_mode": {
    "name": "ipython",
    "version": 3
   },
   "file_extension": ".py",
   "mimetype": "text/x-python",
   "name": "python",
   "nbconvert_exporter": "python",
   "pygments_lexer": "ipython3",
   "version": "3.7.4"
  }
 },
 "nbformat": 4,
 "nbformat_minor": 2
}
